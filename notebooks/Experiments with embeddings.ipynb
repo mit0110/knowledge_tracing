{
 "cells": [
  {
   "cell_type": "code",
   "execution_count": 2,
   "metadata": {
    "collapsed": true
   },
   "outputs": [],
   "source": [
    "%matplotlib inline\n",
    "import matplotlib.pyplot as plt\n",
    "import numpy\n",
    "import pandas\n",
    "import pickle\n",
    "import seaborn\n",
    "\n",
    "from sklearn import metrics"
   ]
  },
  {
   "cell_type": "code",
   "execution_count": 3,
   "metadata": {
    "collapsed": true
   },
   "outputs": [],
   "source": [
    "seaborn.set_style('white')\n",
    "seaborn.set_palette('colorblind')"
   ]
  },
  {
   "cell_type": "markdown",
   "metadata": {},
   "source": [
    "Experiments with embeddings\n",
    "==="
   ]
  },
  {
   "cell_type": "markdown",
   "metadata": {},
   "source": [
    "## Base implementation\n",
    " * loss: average mse between embedding of next exercise and network output\n",
    " * hidden_layer_size 200\n",
    " * embedding_size 200\n",
    " * log_values 50\n",
    " * logs_dirname '../results/dkt_lstm/by_problem_id/tensorboard/'\n",
    " * batch_size: 50\n",
    " * max_num_steps: 100\n",
    " * training_epochs 500"
   ]
  },
  {
   "cell_type": "markdown",
   "metadata": {},
   "source": [
    "### Validation results\n"
   ]
  },
  {
   "cell_type": "code",
   "execution_count": 4,
   "metadata": {
    "collapsed": true
   },
   "outputs": [],
   "source": [
    "lstm_results = pandas.DataFrame([\n",
    "        [50, -0.326093822718],\n",
    "        [100, -0.0424702838063],\n",
    "        [150, -0.0353030189872],\n",
    "        [200, -0.0305649638176],\n",
    "        [250, -0.0265223439783],\n",
    "        [300, -0.0227521844208],\n",
    "        [350, -0.019143987447],\n",
    "        [400, -0.015706256032],\n",
    "        [450, -0.0125677362084],\n",
    "    ], columns=['iteration', 'r2'])\n",
    "lstm_results['type'] = 'validation'"
   ]
  },
  {
   "cell_type": "code",
   "execution_count": 5,
   "metadata": {},
   "outputs": [
    {
     "data": {
      "image/png": "[encoded data removed]",
      "text/plain": [
       "<matplotlib.figure.Figure at 0x2b0314c38110>"
      ]
     },
     "metadata": {},
     "output_type": "display_data"
    }
   ],
   "source": [
    "seaborn.pointplot(x=\"iteration\", y=\"r2\", data=lstm_results, markers='.', linestyles='-')\n",
    "plt.title('Variation of validation R2 over iterations')\n",
    "seaborn.despine(left=True)\n",
    "plt.show()"
   ]
  },
  {
   "cell_type": "markdown",
   "metadata": {},
   "source": [
    "### Testing results"
   ]
  },
  {
   "cell_type": "code",
   "execution_count": 6,
   "metadata": {
    "collapsed": true
   },
   "outputs": [],
   "source": [
    "test_prediction_file = '../../results/dkt_lstm/by_problem_id/predictions.p'\n",
    "\n",
    "with open(test_prediction_file, 'r') as prediction_file:\n",
    "    predictions = pickle.load(prediction_file)"
   ]
  },
  {
   "cell_type": "code",
   "execution_count": 13,
   "metadata": {},
   "outputs": [
    {
     "data": {
      "text/plain": [
       "(array([ array([ 0.,  1.,  1.,  1.,  1.,  1.,  1.,  1.,  0.,  0.,  1.,  1.,  1.,\n",
       "         1.,  1.,  1.,  1.,  1.,  1.,  1.,  1.,  1.,  0.,  0.,  1.,  1.,\n",
       "         1.,  0.,  0.,  0.,  0.,  0.,  1.,  1.,  1.,  0.,  0.,  0.,  0.,\n",
       "         1.,  0.,  1.,  1.,  1.,  1.,  0.,  0.,  1.,  0.,  0.,  1.,  1.,\n",
       "         1.,  0.,  1.,  1.,  1.,  1.,  1.,  0.,  0.,  0.,  0.,  0.,  1.,\n",
       "         0.,  1.,  1.,  0.,  1.,  0.,  0.,  1.,  0.,  1.,  1.,  1.,  1.,\n",
       "         1.,  1.,  1.,  1.,  1.,  0.,  0.,  0.,  1.,  1.,  1.,  1.,  0.,\n",
       "         0.,  0.,  1.,  1.,  1.,  1.,  1.,  0.,  1.,  1.,  1.,  0.,  1.,\n",
       "         1.,  0.,  1.,  1.,  1.,  1.,  1.,  1.,  1.,  0.,  0.,  0.,  0.,\n",
       "         0.,  0.,  0.,  0.,  1.,  0.,  0.,  0.,  0.,  0.,  0.,  0.,  0.,\n",
       "         1.,  1.,  1.,  1.,  1.,  1.,  1.,  1.,  1.,  0.,  0.,  0.,  1.,\n",
       "         1.,  1.,  1.,  1.,  1.,  1.,  1.,  0.,  1.,  1.,  1.,  1.,  1.,\n",
       "         1.,  1.,  1.,  1.,  1.,  1.,  1.,  1.,  0.,  1.,  1.,  0.,  0.,\n",
       "         0.,  1.,  1.,  0.,  1.,  1.,  1.,  0.,  0.,  0.,  0.,  1.,  0.,\n",
       "         1.,  0.,  0.,  1.,  1.,  1.,  1.]),\n",
       "        array([ 1.,  1.,  1.,  0.,  1.,  1.,  1.,  1.,  1.,  0.,  0.,  0.,  0.,\n",
       "         0.,  0.,  0.,  0.,  0.,  0.,  1.,  0.,  1.,  0.,  1.,  0.,  0.,\n",
       "         0.,  0.,  1.,  0.,  1.,  0.,  1.,  0.,  1.,  0.,  1.,  0.,  1.,  1.])], dtype=object),\n",
       " array([ array([ 0.11384964,  0.14737275,  0.14824967,  0.13900404,  0.14682339,\n",
       "         0.12959397,  0.11983699,  0.12498838,  0.10487628,  0.12932152,\n",
       "         0.16720553,  0.10751788,  0.13851896,  0.14668189,  0.14062099,\n",
       "         0.15352191,  0.13017708,  0.1422077 ,  0.12631293,  0.15085402,\n",
       "         0.12779219,  0.14067134,  0.08124803,  0.12556136,  0.09787533,\n",
       "         0.11726093,  0.11163922,  0.11446263,  0.12571038,  0.11999423,\n",
       "         0.11789081,  0.12436615,  0.15475495,  0.17980629,  0.15970498,\n",
       "         0.12516983,  0.11814205,  0.12760188,  0.12106985,  0.19293639,\n",
       "         0.11559006,  0.16415089,  0.16396806,  0.18277304,  0.17961383,\n",
       "         0.11177981,  0.11941754,  0.15881328,  0.10090235,  0.12865394,\n",
       "         0.16944611,  0.15617998,  0.17369698,  0.10099005,  0.14243831,\n",
       "         0.15994096,  0.16822897,  0.16589744,  0.18193385,  0.08181089,\n",
       "         0.11372286,  0.12430302,  0.1120619 ,  0.08461396,  0.11974107,\n",
       "         0.08472559,  0.16314772,  0.16180569,  0.11753916,  0.1153978 ,\n",
       "         0.08563688,  0.11024293,  0.15849812,  0.10773116,  0.11760492,\n",
       "         0.11571906,  0.11353612,  0.16190933,  0.1365647 ,  0.14686579,\n",
       "         0.09985292,  0.0993784 ,  0.10552428,  0.08211739,  0.12107604,\n",
       "         0.09339334,  0.18615647,  0.18230939,  0.18296643,  0.10924009,\n",
       "         0.07640195,  0.10758287,  0.08131354,  0.15110692,  0.15275832,\n",
       "         0.15529251,  0.11438463,  0.11594958,  0.08028339,  0.15527883,\n",
       "         0.15695111,  0.17115475,  0.0820101 ,  0.14549011,  0.11590981,\n",
       "         0.09004125,  0.16147169,  0.16614257,  0.16991696,  0.11846049,\n",
       "         0.11151979,  0.13516043,  0.1151285 ,  0.08669234,  0.09999025,\n",
       "         0.10282847,  0.09955713,  0.08416879,  0.09919921,  0.10586222,\n",
       "         0.09730947,  0.13338767,  0.0826476 ,  0.09496083,  0.09031054,\n",
       "         0.09236895,  0.07865365,  0.10435404,  0.10803452,  0.1021979 ,\n",
       "         0.1680856 ,  0.1611065 ,  0.16390511,  0.17802973,  0.17527813,\n",
       "         0.16437224,  0.151269  ,  0.174932  ,  0.16890197,  0.11992169,\n",
       "         0.11385326,  0.12055964,  0.17996572,  0.17184073,  0.17223732,\n",
       "         0.15889648,  0.13257241,  0.14549839,  0.140338  ,  0.13252378,\n",
       "         0.10249557,  0.15993033,  0.15988475,  0.15337972,  0.16438776,\n",
       "         0.17884786,  0.19290856,  0.18293218,  0.18185976,  0.171931  ,\n",
       "         0.1631365 ,  0.1563905 ,  0.16782242,  0.16559859,  0.12535517,\n",
       "         0.18478037,  0.17088398,  0.13398708,  0.11901382,  0.11912361,\n",
       "         0.18520431,  0.18999736,  0.12554429,  0.15597297,  0.18729994,\n",
       "         0.17491832,  0.13008958,  0.10273247,  0.12552929,  0.10386154,\n",
       "         0.18344505,  0.13720883,  0.15587604,  0.1244022 ,  0.14463302,\n",
       "         0.18065345,  0.1530011 ,  0.17239562,  0.01644125]),\n",
       "        array([ 0.12395675,  0.11806912,  0.13020697,  0.09455077,  0.153523  ,\n",
       "         0.15214828,  0.14987743,  0.1411722 ,  0.13992302,  0.09769183,\n",
       "         0.08990981,  0.09980561,  0.09086445,  0.09795274,  0.09452935,\n",
       "         0.08469736,  0.09701911,  0.09315442,  0.09364774,  0.10090733,\n",
       "         0.07859205,  0.10172537,  0.07694623,  0.09891875,  0.0799083 ,\n",
       "         0.07712166,  0.08192492,  0.08507606,  0.09656376,  0.08059062,\n",
       "         0.11705415,  0.05213195,  0.13277747,  0.05136313,  0.11673631,\n",
       "         0.04932963,  0.16019323,  0.05707752,  0.15472244,  0.00621876])], dtype=object))"
      ]
     },
     "execution_count": 13,
     "metadata": {},
     "output_type": "execute_result"
    }
   ],
   "source": [
    "predictions[0][:2], predictions[1][:2]"
   ]
  },
  {
   "cell_type": "code",
   "execution_count": 7,
   "metadata": {
    "collapsed": true
   },
   "outputs": [],
   "source": [
    "def get_rmse(true, predicted):\n",
    "    results = []\n",
    "    for true_sequence, predicted_sequence in zip(true, predicted):\n",
    "        results.append([metrics.mean_squared_error(true_sequence, 1-predicted_sequence)**0.5,\n",
    "                        true_sequence.shape[0]])\n",
    "    return pandas.DataFrame(results, columns=['RMSE', 'Sequence lenght'])"
   ]
  },
  {
   "cell_type": "code",
   "execution_count": 8,
   "metadata": {
    "collapsed": true
   },
   "outputs": [],
   "source": [
    "rmse_results = get_rmse(*predictions)"
   ]
  },
  {
   "cell_type": "code",
   "execution_count": 12,
   "metadata": {},
   "outputs": [
    {
     "data": {
      "image/png": "[encoded data removed]",
      "text/plain": [
       "<matplotlib.figure.Figure at 0x2b035b17e4d0>"
      ]
     },
     "metadata": {},
     "output_type": "display_data"
    }
   ],
   "source": [
    "seaborn.distplot(rmse_results.RMSE, kde=False)\n",
    "seaborn.despine(left=True)"
   ]
  },
  {
   "cell_type": "code",
   "execution_count": 10,
   "metadata": {},
   "outputs": [
    {
     "data": {
      "text/html": [
       "<div>\n",
       "<style>\n",
       "    .dataframe thead tr:only-child th {\n",
       "        text-align: right;\n",
       "    }\n",
       "\n",
       "    .dataframe thead th {\n",
       "        text-align: left;\n",
       "    }\n",
       "\n",
       "    .dataframe tbody tr th {\n",
       "        vertical-align: top;\n",
       "    }\n",
       "</style>\n",
       "<table border=\"1\" class=\"dataframe\">\n",
       "  <thead>\n",
       "    <tr style=\"text-align: right;\">\n",
       "      <th></th>\n",
       "      <th>RMSE</th>\n",
       "      <th>Sequence lenght</th>\n",
       "    </tr>\n",
       "  </thead>\n",
       "  <tbody>\n",
       "    <tr>\n",
       "      <th>count</th>\n",
       "      <td>800.000000</td>\n",
       "      <td>800.000000</td>\n",
       "    </tr>\n",
       "    <tr>\n",
       "      <th>mean</th>\n",
       "      <td>0.499088</td>\n",
       "      <td>73.676250</td>\n",
       "    </tr>\n",
       "    <tr>\n",
       "      <th>std</th>\n",
       "      <td>0.167892</td>\n",
       "      <td>148.240642</td>\n",
       "    </tr>\n",
       "    <tr>\n",
       "      <th>min</th>\n",
       "      <td>0.072647</td>\n",
       "      <td>1.000000</td>\n",
       "    </tr>\n",
       "    <tr>\n",
       "      <th>25%</th>\n",
       "      <td>0.397208</td>\n",
       "      <td>8.000000</td>\n",
       "    </tr>\n",
       "    <tr>\n",
       "      <th>50%</th>\n",
       "      <td>0.512161</td>\n",
       "      <td>21.000000</td>\n",
       "    </tr>\n",
       "    <tr>\n",
       "      <th>75%</th>\n",
       "      <td>0.617141</td>\n",
       "      <td>67.000000</td>\n",
       "    </tr>\n",
       "    <tr>\n",
       "      <th>max</th>\n",
       "      <td>0.904797</td>\n",
       "      <td>1261.000000</td>\n",
       "    </tr>\n",
       "  </tbody>\n",
       "</table>\n",
       "</div>"
      ],
      "text/plain": [
       "             RMSE  Sequence lenght\n",
       "count  800.000000       800.000000\n",
       "mean     0.499088        73.676250\n",
       "std      0.167892       148.240642\n",
       "min      0.072647         1.000000\n",
       "25%      0.397208         8.000000\n",
       "50%      0.512161        21.000000\n",
       "75%      0.617141        67.000000\n",
       "max      0.904797      1261.000000"
      ]
     },
     "execution_count": 10,
     "metadata": {},
     "output_type": "execute_result"
    }
   ],
   "source": [
    "rmse_results.describe()"
   ]
  },
  {
   "cell_type": "code",
   "execution_count": 11,
   "metadata": {},
   "outputs": [
    {
     "data": {
      "text/plain": [
       "<seaborn.axisgrid.JointGrid at 0x2b0358ce3750>"
      ]
     },
     "execution_count": 11,
     "metadata": {},
     "output_type": "execute_result"
    },
    {
     "data": {
      "image/png": "[encoded data removed]",
      "text/plain": [
       "<matplotlib.figure.Figure at 0x2b03587a8650>"
      ]
     },
     "metadata": {},
     "output_type": "display_data"
    }
   ],
   "source": [
    "seaborn.jointplot(x='RMSE', y='Sequence lenght', data=rmse_results)"
   ]
  },
  {
   "cell_type": "code",
   "execution_count": null,
   "metadata": {
    "collapsed": true
   },
   "outputs": [],
   "source": []
  }
 ],
 "metadata": {
  "anaconda-cloud": {},
  "kernelspec": {
   "display_name": "Python [conda env:edm_env]",
   "language": "python",
   "name": "conda-env-edm_env-py"
  },
  "language_info": {
   "codemirror_mode": {
    "name": "ipython",
    "version": 2
   },
   "file_extension": ".py",
   "mimetype": "text/x-python",
   "name": "python",
   "nbconvert_exporter": "python",
   "pygments_lexer": "ipython2",
   "version": "2.7.13"
  }
 },
 "nbformat": 4,
 "nbformat_minor": 2
}
