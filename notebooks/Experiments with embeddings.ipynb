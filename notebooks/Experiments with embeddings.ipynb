{
 "cells": [
  {
   "cell_type": "code",
   "execution_count": 44,
   "metadata": {
    "collapsed": true
   },
   "outputs": [],
   "source": [
    "%matplotlib inline\n",
    "import matplotlib.pyplot as plt\n",
    "import numpy\n",
    "import pandas\n",
    "import pickle\n",
    "import seaborn\n",
    "\n",
    "from sklearn import metrics"
   ]
  },
  {
   "cell_type": "code",
   "execution_count": 45,
   "metadata": {
    "collapsed": true
   },
   "outputs": [],
   "source": [
    "seaborn.set_style('white')\n",
    "seaborn.set_palette('colorblind')"
   ]
  },
  {
   "cell_type": "markdown",
   "metadata": {},
   "source": [
    "Experiments with embeddings\n",
    "==="
   ]
  },
  {
   "cell_type": "markdown",
   "metadata": {},
   "source": [
    "## Base implementation\n",
    " * loss: average mse between embedding of next exercise and network output\n",
    " * hidden_layer_size 200\n",
    " * embedding_size 200\n",
    " * log_values 50\n",
    " * logs_dirname '../results/dkt_lstm/by_problem_id/tensorboard/'\n",
    " * batch_size: 50\n",
    " * max_num_steps: 100\n",
    " * training_epochs 500"
   ]
  },
  {
   "cell_type": "markdown",
   "metadata": {},
   "source": [
    "### Validation results\n"
   ]
  },
  {
   "cell_type": "code",
   "execution_count": 46,
   "metadata": {
    "collapsed": true
   },
   "outputs": [],
   "source": [
    "lstm_results = pandas.DataFrame([\n",
    "        [50, -0.326093822718],\n",
    "        [100, -0.0424702838063],\n",
    "        [150, -0.0353030189872],\n",
    "        [200, -0.0305649638176],\n",
    "        [250, -0.0265223439783],\n",
    "        [300, -0.0227521844208],\n",
    "        [350, -0.019143987447],\n",
    "        [400, -0.015706256032],\n",
    "        [450, -0.0125677362084],\n",
    "    ], columns=['iteration', 'r2'])\n",
    "lstm_results['type'] = 'validation'"
   ]
  },
  {
   "cell_type": "code",
   "execution_count": 47,
   "metadata": {},
   "outputs": [
    {
     "data": {
      "image/png": "[encoded data removed]",
      "text/plain": [
       "<matplotlib.figure.Figure at 0x2b4125bd4d10>"
      ]
     },
     "metadata": {},
     "output_type": "display_data"
    }
   ],
   "source": [
    "seaborn.pointplot(x=\"iteration\", y=\"r2\", data=lstm_results, markers='.', linestyles='-')\n",
    "plt.title('Variation of validation R2 over iterations')\n",
    "seaborn.despine(left=True)\n",
    "plt.show()"
   ]
  },
  {
   "cell_type": "markdown",
   "metadata": {},
   "source": [
    "### Testing results"
   ]
  },
  {
   "cell_type": "code",
   "execution_count": 48,
   "metadata": {
    "collapsed": true
   },
   "outputs": [],
   "source": [
    "test_prediction_file = '../../results/dkt_lstm/by_problem_id/predictions.p'\n",
    "\n",
    "with open(test_prediction_file, 'r') as prediction_file:\n",
    "    predictions = pickle.load(prediction_file)"
   ]
  },
  {
   "cell_type": "code",
   "execution_count": 49,
   "metadata": {
    "scrolled": true
   },
   "outputs": [
    {
     "data": {
      "text/plain": [
       "(array([ array([ 0.,  1.,  1.,  1.,  0.,  1.,  0.,  0.,  0.,  0.,  0.,  0.,  0.,\n",
       "         1.,  1.,  1.,  1.,  0.,  0.,  1.]),\n",
       "        array([ 0.,  0.,  0.,  0.,  0.,  0.,  1.,  1.,  0.,  1.,  1.,  1.,  1.,\n",
       "         1.,  1.,  1.,  1.,  1.,  0.,  0.,  0.,  1.,  0.,  1.,  1.,  1.,\n",
       "         0.,  0.,  1.,  0.,  1.,  0.,  1.,  0.,  1.,  0.,  0.,  1.])], dtype=object),\n",
       " array([ array([ 0.89050364,  0.86510211,  0.87859803,  0.8670398 ,  0.90549248,\n",
       "         0.86127472,  0.90284407,  0.89382327,  0.90859967,  0.90548432,\n",
       "         0.88801014,  0.86797667,  0.86054766,  0.81209654,  0.82035303,\n",
       "         0.83907199,  0.82307279,  0.86848491,  0.87063777,  0.84109551]),\n",
       "        array([ 0.86051422,  0.86274099,  0.86533678,  0.84825784,  0.86659229,\n",
       "         0.86330354,  0.79398513,  0.78713739,  0.85478956,  0.79756987,\n",
       "         0.81610858,  0.80934018,  0.81382692,  0.80486888,  0.79771864,\n",
       "         0.83418673,  0.81484979,  0.84527588,  0.87257445,  0.88396031,\n",
       "         0.86977249,  0.84711796,  0.8751266 ,  0.84109569,  0.8522886 ,\n",
       "         0.84529376,  0.88504446,  0.88279921,  0.85514611,  0.88505226,\n",
       "         0.96178293,  0.95093912,  0.97532457,  0.88761556,  0.8897301 ,\n",
       "         0.8763212 ,  0.89408225,  0.99315631])], dtype=object))"
      ]
     },
     "execution_count": 49,
     "metadata": {},
     "output_type": "execute_result"
    }
   ],
   "source": [
    "predictions[0][:2], predictions[1][:2]"
   ]
  },
  {
   "cell_type": "markdown",
   "metadata": {},
   "source": [
    "#### RMSE results"
   ]
  },
  {
   "cell_type": "code",
   "execution_count": 50,
   "metadata": {
    "collapsed": true
   },
   "outputs": [],
   "source": [
    "def get_rmse(true, predicted):\n",
    "    results = []\n",
    "    for true_sequence, predicted_sequence in zip(true, predicted):\n",
    "        results.append([metrics.mean_squared_error(true_sequence, predicted_sequence)**0.5,\n",
    "                        true_sequence.shape[0]])\n",
    "    return pandas.DataFrame(results, columns=['RMSE', 'Sequence lenght'])\n",
    "\n",
    "def get_mean_rmse(true, predicted):\n",
    "    all_true = numpy.concatenate(true)\n",
    "    all_predicted = numpy.concatenate(predicted)\n",
    "    return metrics.mean_squared_error(all_true, all_predicted)**0.5"
   ]
  },
  {
   "cell_type": "code",
   "execution_count": 51,
   "metadata": {},
   "outputs": [
    {
     "data": {
      "text/plain": [
       "0.51792214915097978"
      ]
     },
     "execution_count": 51,
     "metadata": {},
     "output_type": "execute_result"
    }
   ],
   "source": [
    "get_mean_rmse(*predictions)"
   ]
  },
  {
   "cell_type": "code",
   "execution_count": 52,
   "metadata": {
    "collapsed": true
   },
   "outputs": [],
   "source": [
    "rmse_results = get_rmse(*predictions)"
   ]
  },
  {
   "cell_type": "code",
   "execution_count": 53,
   "metadata": {},
   "outputs": [
    {
     "data": {
      "image/png": "[encoded data removed]",
      "text/plain": [
       "<matplotlib.figure.Figure at 0x2b41261edf50>"
      ]
     },
     "metadata": {},
     "output_type": "display_data"
    }
   ],
   "source": [
    "seaborn.distplot(rmse_results.RMSE, kde=False)\n",
    "seaborn.despine(left=True)"
   ]
  },
  {
   "cell_type": "code",
   "execution_count": 54,
   "metadata": {},
   "outputs": [
    {
     "data": {
      "text/html": [
       "<div>\n",
       "<style>\n",
       "    .dataframe thead tr:only-child th {\n",
       "        text-align: right;\n",
       "    }\n",
       "\n",
       "    .dataframe thead th {\n",
       "        text-align: left;\n",
       "    }\n",
       "\n",
       "    .dataframe tbody tr th {\n",
       "        vertical-align: top;\n",
       "    }\n",
       "</style>\n",
       "<table border=\"1\" class=\"dataframe\">\n",
       "  <thead>\n",
       "    <tr style=\"text-align: right;\">\n",
       "      <th></th>\n",
       "      <th>RMSE</th>\n",
       "      <th>Sequence lenght</th>\n",
       "    </tr>\n",
       "  </thead>\n",
       "  <tbody>\n",
       "    <tr>\n",
       "      <th>count</th>\n",
       "      <td>800.000000</td>\n",
       "      <td>800.000000</td>\n",
       "    </tr>\n",
       "    <tr>\n",
       "      <th>mean</th>\n",
       "      <td>0.489896</td>\n",
       "      <td>78.107500</td>\n",
       "    </tr>\n",
       "    <tr>\n",
       "      <th>std</th>\n",
       "      <td>0.166966</td>\n",
       "      <td>163.339051</td>\n",
       "    </tr>\n",
       "    <tr>\n",
       "      <th>min</th>\n",
       "      <td>0.069897</td>\n",
       "      <td>1.000000</td>\n",
       "    </tr>\n",
       "    <tr>\n",
       "      <th>25%</th>\n",
       "      <td>0.395730</td>\n",
       "      <td>8.000000</td>\n",
       "    </tr>\n",
       "    <tr>\n",
       "      <th>50%</th>\n",
       "      <td>0.513634</td>\n",
       "      <td>21.000000</td>\n",
       "    </tr>\n",
       "    <tr>\n",
       "      <th>75%</th>\n",
       "      <td>0.598364</td>\n",
       "      <td>64.250000</td>\n",
       "    </tr>\n",
       "    <tr>\n",
       "      <th>max</th>\n",
       "      <td>0.867986</td>\n",
       "      <td>1261.000000</td>\n",
       "    </tr>\n",
       "  </tbody>\n",
       "</table>\n",
       "</div>"
      ],
      "text/plain": [
       "             RMSE  Sequence lenght\n",
       "count  800.000000       800.000000\n",
       "mean     0.489896        78.107500\n",
       "std      0.166966       163.339051\n",
       "min      0.069897         1.000000\n",
       "25%      0.395730         8.000000\n",
       "50%      0.513634        21.000000\n",
       "75%      0.598364        64.250000\n",
       "max      0.867986      1261.000000"
      ]
     },
     "execution_count": 54,
     "metadata": {},
     "output_type": "execute_result"
    }
   ],
   "source": [
    "rmse_results.describe()"
   ]
  },
  {
   "cell_type": "code",
   "execution_count": 55,
   "metadata": {},
   "outputs": [
    {
     "data": {
      "image/png": "[encoded data removed]",
      "text/plain": [
       "<matplotlib.figure.Figure at 0x2b4125f78710>"
      ]
     },
     "metadata": {},
     "output_type": "display_data"
    }
   ],
   "source": [
    "seaborn.jointplot(x='RMSE', y='Sequence lenght', data=rmse_results)\n",
    "seaborn.despine(left=True)"
   ]
  },
  {
   "cell_type": "markdown",
   "metadata": {},
   "source": [
    "#### AUC results"
   ]
  },
  {
   "cell_type": "code",
   "execution_count": 56,
   "metadata": {
    "collapsed": true
   },
   "outputs": [],
   "source": [
    "def get_auc_roc_curve(true, predicted):\n",
    "    results = []\n",
    "    ignored_sequences = 0\n",
    "    for true_sequence, predicted_sequence in zip(true, predicted):\n",
    "        try:\n",
    "            results.append([metrics.roc_auc_score(true_sequence, predicted_sequence),\n",
    "                            true_sequence.shape[0]])\n",
    "        except ValueError:\n",
    "            ignored_sequences += 1\n",
    "    print '{} sequences with only one class, ignoring.'.format(ignored_sequences)\n",
    "    return pandas.DataFrame(results, columns=['AUC', 'Sequence lenght'])\n",
    "\n",
    "def get_mean_auc_roc_curve(true, predicted):\n",
    "    all_true = numpy.concatenate(true)\n",
    "    all_predicted = numpy.concatenate(predicted)\n",
    "    return metrics.roc_auc_score(all_true, all_predicted)"
   ]
  },
  {
   "cell_type": "code",
   "execution_count": 57,
   "metadata": {},
   "outputs": [
    {
     "name": "stdout",
     "output_type": "stream",
     "text": [
      "111 sequences with only one class, ignoring.\n"
     ]
    }
   ],
   "source": [
    "aucs = get_auc_roc_curve(*predictions)"
   ]
  },
  {
   "cell_type": "code",
   "execution_count": 58,
   "metadata": {},
   "outputs": [
    {
     "data": {
      "text/html": [
       "<div>\n",
       "<style>\n",
       "    .dataframe thead tr:only-child th {\n",
       "        text-align: right;\n",
       "    }\n",
       "\n",
       "    .dataframe thead th {\n",
       "        text-align: left;\n",
       "    }\n",
       "\n",
       "    .dataframe tbody tr th {\n",
       "        vertical-align: top;\n",
       "    }\n",
       "</style>\n",
       "<table border=\"1\" class=\"dataframe\">\n",
       "  <thead>\n",
       "    <tr style=\"text-align: right;\">\n",
       "      <th></th>\n",
       "      <th>AUC</th>\n",
       "      <th>Sequence lenght</th>\n",
       "    </tr>\n",
       "  </thead>\n",
       "  <tbody>\n",
       "    <tr>\n",
       "      <th>count</th>\n",
       "      <td>689.000000</td>\n",
       "      <td>689.000000</td>\n",
       "    </tr>\n",
       "    <tr>\n",
       "      <th>mean</th>\n",
       "      <td>0.209416</td>\n",
       "      <td>89.876633</td>\n",
       "    </tr>\n",
       "    <tr>\n",
       "      <th>std</th>\n",
       "      <td>0.249353</td>\n",
       "      <td>173.151829</td>\n",
       "    </tr>\n",
       "    <tr>\n",
       "      <th>min</th>\n",
       "      <td>0.000000</td>\n",
       "      <td>2.000000</td>\n",
       "    </tr>\n",
       "    <tr>\n",
       "      <th>25%</th>\n",
       "      <td>0.047619</td>\n",
       "      <td>12.000000</td>\n",
       "    </tr>\n",
       "    <tr>\n",
       "      <th>50%</th>\n",
       "      <td>0.108851</td>\n",
       "      <td>26.000000</td>\n",
       "    </tr>\n",
       "    <tr>\n",
       "      <th>75%</th>\n",
       "      <td>0.269231</td>\n",
       "      <td>80.000000</td>\n",
       "    </tr>\n",
       "    <tr>\n",
       "      <th>max</th>\n",
       "      <td>1.000000</td>\n",
       "      <td>1261.000000</td>\n",
       "    </tr>\n",
       "  </tbody>\n",
       "</table>\n",
       "</div>"
      ],
      "text/plain": [
       "              AUC  Sequence lenght\n",
       "count  689.000000       689.000000\n",
       "mean     0.209416        89.876633\n",
       "std      0.249353       173.151829\n",
       "min      0.000000         2.000000\n",
       "25%      0.047619        12.000000\n",
       "50%      0.108851        26.000000\n",
       "75%      0.269231        80.000000\n",
       "max      1.000000      1261.000000"
      ]
     },
     "execution_count": 58,
     "metadata": {},
     "output_type": "execute_result"
    }
   ],
   "source": [
    "aucs.describe()"
   ]
  },
  {
   "cell_type": "code",
   "execution_count": 59,
   "metadata": {},
   "outputs": [
    {
     "data": {
      "text/plain": [
       "0.12763605192678026"
      ]
     },
     "execution_count": 59,
     "metadata": {},
     "output_type": "execute_result"
    }
   ],
   "source": [
    "get_mean_auc_roc_curve(*predictions)"
   ]
  },
  {
   "cell_type": "markdown",
   "metadata": {},
   "source": [
    "#### R2 results"
   ]
  },
  {
   "cell_type": "code",
   "execution_count": 60,
   "metadata": {
    "collapsed": true
   },
   "outputs": [],
   "source": [
    "def get_r2(true, predicted):\n",
    "    results = []\n",
    "    for true_sequence, predicted_sequence in zip(true, predicted):\n",
    "        results.append([metrics.r2_score(true_sequence, predicted_sequence),\n",
    "                        true_sequence.shape[0]])\n",
    "    return pandas.DataFrame(results, columns=['R2', 'Sequence lenght'])\n",
    "\n",
    "def get_mean_r2(true, predicted):\n",
    "    all_true = numpy.concatenate(true)\n",
    "    all_predicted = numpy.concatenate(predicted)\n",
    "    return metrics.r2_score(all_true, all_predicted)"
   ]
  },
  {
   "cell_type": "code",
   "execution_count": 61,
   "metadata": {},
   "outputs": [
    {
     "data": {
      "text/plain": [
       "-0.211390168048323"
      ]
     },
     "execution_count": 61,
     "metadata": {},
     "output_type": "execute_result"
    }
   ],
   "source": [
    "get_mean_r2(*predictions)"
   ]
  },
  {
   "cell_type": "code",
   "execution_count": 62,
   "metadata": {},
   "outputs": [
    {
     "data": {
      "text/html": [
       "<div>\n",
       "<style>\n",
       "    .dataframe thead tr:only-child th {\n",
       "        text-align: right;\n",
       "    }\n",
       "\n",
       "    .dataframe thead th {\n",
       "        text-align: left;\n",
       "    }\n",
       "\n",
       "    .dataframe tbody tr th {\n",
       "        vertical-align: top;\n",
       "    }\n",
       "</style>\n",
       "<table border=\"1\" class=\"dataframe\">\n",
       "  <thead>\n",
       "    <tr style=\"text-align: right;\">\n",
       "      <th></th>\n",
       "      <th>R2</th>\n",
       "      <th>Sequence lenght</th>\n",
       "    </tr>\n",
       "  </thead>\n",
       "  <tbody>\n",
       "    <tr>\n",
       "      <th>count</th>\n",
       "      <td>800.000000</td>\n",
       "      <td>800.000000</td>\n",
       "    </tr>\n",
       "    <tr>\n",
       "      <th>mean</th>\n",
       "      <td>-0.568023</td>\n",
       "      <td>78.107500</td>\n",
       "    </tr>\n",
       "    <tr>\n",
       "      <th>std</th>\n",
       "      <td>1.534304</td>\n",
       "      <td>163.339051</td>\n",
       "    </tr>\n",
       "    <tr>\n",
       "      <th>min</th>\n",
       "      <td>-15.975795</td>\n",
       "      <td>1.000000</td>\n",
       "    </tr>\n",
       "    <tr>\n",
       "      <th>25%</th>\n",
       "      <td>-0.448248</td>\n",
       "      <td>8.000000</td>\n",
       "    </tr>\n",
       "    <tr>\n",
       "      <th>50%</th>\n",
       "      <td>-0.189086</td>\n",
       "      <td>21.000000</td>\n",
       "    </tr>\n",
       "    <tr>\n",
       "      <th>75%</th>\n",
       "      <td>-0.075918</td>\n",
       "      <td>64.250000</td>\n",
       "    </tr>\n",
       "    <tr>\n",
       "      <th>max</th>\n",
       "      <td>0.091151</td>\n",
       "      <td>1261.000000</td>\n",
       "    </tr>\n",
       "  </tbody>\n",
       "</table>\n",
       "</div>"
      ],
      "text/plain": [
       "               R2  Sequence lenght\n",
       "count  800.000000       800.000000\n",
       "mean    -0.568023        78.107500\n",
       "std      1.534304       163.339051\n",
       "min    -15.975795         1.000000\n",
       "25%     -0.448248         8.000000\n",
       "50%     -0.189086        21.000000\n",
       "75%     -0.075918        64.250000\n",
       "max      0.091151      1261.000000"
      ]
     },
     "execution_count": 62,
     "metadata": {},
     "output_type": "execute_result"
    }
   ],
   "source": [
    "r2s = get_r2(*predictions)\n",
    "r2s.describe()"
   ]
  },
  {
   "cell_type": "code",
   "execution_count": 63,
   "metadata": {},
   "outputs": [
    {
     "data": {
      "text/plain": [
       "<seaborn.axisgrid.JointGrid at 0x2b41261220d0>"
      ]
     },
     "execution_count": 63,
     "metadata": {},
     "output_type": "execute_result"
    },
    {
     "data": {
      "image/png": "[encoded data removed]",
      "text/plain": [
       "<matplotlib.figure.Figure at 0x2b4125f39550>"
      ]
     },
     "metadata": {},
     "output_type": "display_data"
    }
   ],
   "source": [
    "seaborn.jointplot(x='R2', y='Sequence lenght', data=r2s)"
   ]
  },
  {
   "cell_type": "markdown",
   "metadata": {
    "collapsed": true
   },
   "source": [
    "---"
   ]
  },
  {
   "cell_type": "markdown",
   "metadata": {},
   "source": [
    "## Loss2"
   ]
  },
  {
   "cell_type": "code",
   "execution_count": 26,
   "metadata": {
    "collapsed": true
   },
   "outputs": [],
   "source": [
    "test_prediction_file = '../../results/dkt_lstm/by_problem_id/loss2/predictions.p'\n",
    "\n",
    "with open(test_prediction_file, 'r') as prediction_file:\n",
    "    predictions = pickle.load(prediction_file)"
   ]
  },
  {
   "cell_type": "code",
   "execution_count": 27,
   "metadata": {
    "scrolled": true
   },
   "outputs": [
    {
     "data": {
      "text/plain": [
       "(array([ array([ 1.,  0.,  0.,  0.,  0.,  1.,  0.,  0.,  0.,  0.,  0.,  0.,  0.,\n",
       "         0.,  1.,  1.,  0.,  0.,  0.,  0.,  0.,  0.,  0.,  1.,  0.,  0.,\n",
       "         0.,  1.,  0.,  0.,  0.,  1.,  0.,  0.,  0.,  0.,  0.,  0.,  0.,\n",
       "         0.,  0.,  0.,  0.,  0.,  0.,  0.,  1.,  0.,  0.,  1.,  0.,  1.,\n",
       "         1.,  1.,  1.,  1.,  1.,  1.,  1.,  1.,  1.,  1.,  0.,  1.,  1.,\n",
       "         1.,  0.,  0.,  1.,  1.,  1.,  1.]),\n",
       "        array([ 0.,  1.,  0.,  1.,  0.,  0.,  1.,  1.,  0.,  1.,  1.,  0.,  1.])], dtype=object),\n",
       " array([ array([ 6.90831709,  6.90310478,  6.90170479,  6.91735411,  6.90674305,\n",
       "         6.91572857,  6.9174881 ,  6.91352987,  6.90544891,  6.92284298,\n",
       "         6.9186058 ,  6.90685225,  6.91456127,  6.91244268,  6.92584848,\n",
       "         6.90706778,  6.91104698,  6.90666676,  6.91724157,  6.92098045,\n",
       "         6.91334391,  6.91187668,  6.92582607,  6.90050793,  6.91416025,\n",
       "         6.90985203,  6.90830421,  6.92505217,  6.91651106,  6.92109346,\n",
       "         6.92092991,  6.91731787,  6.91242409,  6.91423178,  6.91735172,\n",
       "         6.91831112,  6.90867615,  6.90262222,  6.90862274,  6.91239738,\n",
       "         6.91187859,  6.91062403,  6.92124271,  6.91478634,  6.91953802,\n",
       "         6.91494226,  6.92248487,  6.92145395,  6.90488672,  6.91926479,\n",
       "         6.91007042,  6.9081049 ,  6.91510248,  6.91634989,  6.9068346 ,\n",
       "         6.91253281,  6.91223526,  6.91212225,  6.91097498,  6.91363382,\n",
       "         6.81964016,  6.81643963,  6.83799601,  6.81554985,  6.83108091,\n",
       "         6.82287502,  6.84230709,  6.82097483,  6.81669283,  6.81518507,\n",
       "         6.80521202,  6.81527567]),\n",
       "        array([ 6.83344698,  6.83158588,  6.82088852,  6.83404636,  6.82681847,\n",
       "         6.84047651,  6.81755447,  6.84057188,  6.84327412,  6.83389521,\n",
       "         6.83670092,  6.82987022,  6.82458258])], dtype=object))"
      ]
     },
     "execution_count": 27,
     "metadata": {},
     "output_type": "execute_result"
    }
   ],
   "source": [
    "predictions[0][:2], predictions[1][:2]"
   ]
  },
  {
   "cell_type": "code",
   "execution_count": 22,
   "metadata": {
    "collapsed": true
   },
   "outputs": [],
   "source": [
    "def get_rmse(true, predicted):\n",
    "    results = []\n",
    "    for true_sequence, predicted_sequence in zip(true, predicted):\n",
    "        results.append([metrics.mean_squared_error(true_sequence, 1-predicted_sequence)**0.5,\n",
    "                        true_sequence.shape[0]])\n",
    "    return pandas.DataFrame(results, columns=['RMSE', 'Sequence lenght'])"
   ]
  },
  {
   "cell_type": "code",
   "execution_count": 23,
   "metadata": {
    "collapsed": true
   },
   "outputs": [],
   "source": [
    "rmse_results = get_rmse(*predictions)"
   ]
  },
  {
   "cell_type": "code",
   "execution_count": null,
   "metadata": {
    "collapsed": true
   },
   "outputs": [],
   "source": [
    "seaborn.distplot(rmse_results.RMSE, kde=False)\n",
    "seaborn.despine(left=True)"
   ]
  },
  {
   "cell_type": "code",
   "execution_count": 24,
   "metadata": {},
   "outputs": [
    {
     "data": {
      "text/html": [
       "<div>\n",
       "<style>\n",
       "    .dataframe thead tr:only-child th {\n",
       "        text-align: right;\n",
       "    }\n",
       "\n",
       "    .dataframe thead th {\n",
       "        text-align: left;\n",
       "    }\n",
       "\n",
       "    .dataframe tbody tr th {\n",
       "        vertical-align: top;\n",
       "    }\n",
       "</style>\n",
       "<table border=\"1\" class=\"dataframe\">\n",
       "  <thead>\n",
       "    <tr style=\"text-align: right;\">\n",
       "      <th></th>\n",
       "      <th>RMSE</th>\n",
       "      <th>Sequence lenght</th>\n",
       "    </tr>\n",
       "  </thead>\n",
       "  <tbody>\n",
       "    <tr>\n",
       "      <th>count</th>\n",
       "      <td>800.000000</td>\n",
       "      <td>800.000000</td>\n",
       "    </tr>\n",
       "    <tr>\n",
       "      <th>mean</th>\n",
       "      <td>6.132072</td>\n",
       "      <td>72.640000</td>\n",
       "    </tr>\n",
       "    <tr>\n",
       "      <th>std</th>\n",
       "      <td>0.320483</td>\n",
       "      <td>150.521489</td>\n",
       "    </tr>\n",
       "    <tr>\n",
       "      <th>min</th>\n",
       "      <td>5.233535</td>\n",
       "      <td>1.000000</td>\n",
       "    </tr>\n",
       "    <tr>\n",
       "      <th>25%</th>\n",
       "      <td>5.989028</td>\n",
       "      <td>8.000000</td>\n",
       "    </tr>\n",
       "    <tr>\n",
       "      <th>50%</th>\n",
       "      <td>6.166323</td>\n",
       "      <td>21.000000</td>\n",
       "    </tr>\n",
       "    <tr>\n",
       "      <th>75%</th>\n",
       "      <td>6.331806</td>\n",
       "      <td>58.000000</td>\n",
       "    </tr>\n",
       "    <tr>\n",
       "      <th>max</th>\n",
       "      <td>6.866883</td>\n",
       "      <td>1094.000000</td>\n",
       "    </tr>\n",
       "  </tbody>\n",
       "</table>\n",
       "</div>"
      ],
      "text/plain": [
       "             RMSE  Sequence lenght\n",
       "count  800.000000       800.000000\n",
       "mean     6.132072        72.640000\n",
       "std      0.320483       150.521489\n",
       "min      5.233535         1.000000\n",
       "25%      5.989028         8.000000\n",
       "50%      6.166323        21.000000\n",
       "75%      6.331806        58.000000\n",
       "max      6.866883      1094.000000"
      ]
     },
     "execution_count": 24,
     "metadata": {},
     "output_type": "execute_result"
    }
   ],
   "source": [
    "rmse_results.describe()"
   ]
  },
  {
   "cell_type": "code",
   "execution_count": null,
   "metadata": {
    "collapsed": true
   },
   "outputs": [],
   "source": []
  }
 ],
 "metadata": {
  "anaconda-cloud": {},
  "kernelspec": {
   "display_name": "Python [conda env:edm_env]",
   "language": "python",
   "name": "conda-env-edm_env-py"
  },
  "language_info": {
   "codemirror_mode": {
    "name": "ipython",
    "version": 2
   },
   "file_extension": ".py",
   "mimetype": "text/x-python",
   "name": "python",
   "nbconvert_exporter": "python",
   "pygments_lexer": "ipython2",
   "version": "2.7.13"
  }
 },
 "nbformat": 4,
 "nbformat_minor": 2
}
