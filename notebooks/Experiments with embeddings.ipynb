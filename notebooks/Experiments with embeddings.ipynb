{
 "cells": [
  {
   "cell_type": "code",
   "execution_count": 16,
   "metadata": {
    "collapsed": true
   },
   "outputs": [],
   "source": [
    "%matplotlib inline\n",
    "import matplotlib.pyplot as plt\n",
    "import numpy\n",
    "import pandas\n",
    "import pickle\n",
    "import seaborn\n",
    "\n",
    "from sklearn import metrics"
   ]
  },
  {
   "cell_type": "code",
   "execution_count": 17,
   "metadata": {
    "collapsed": true
   },
   "outputs": [],
   "source": [
    "seaborn.set_style('white')\n",
    "seaborn.set_palette('colorblind')"
   ]
  },
  {
   "cell_type": "markdown",
   "metadata": {},
   "source": [
    "Experiments with embeddings\n",
    "==="
   ]
  },
  {
   "cell_type": "markdown",
   "metadata": {},
   "source": [
    "## Base implementation\n",
    " * loss: average mse between embedding of next exercise and network output\n",
    " * hidden_layer_size 200\n",
    " * embedding_size 200\n",
    " * log_values 50\n",
    " * logs_dirname '../results/dkt_lstm/by_problem_id/tensorboard/'\n",
    " * batch_size: 50\n",
    " * max_num_steps: 100\n",
    " * training_epochs 500"
   ]
  },
  {
   "cell_type": "markdown",
   "metadata": {},
   "source": [
    "### Validation results\n"
   ]
  },
  {
   "cell_type": "code",
   "execution_count": 46,
   "metadata": {
    "collapsed": true
   },
   "outputs": [],
   "source": [
    "lstm_results = pandas.DataFrame([\n",
    "        [50, -0.326093822718],\n",
    "        [100, -0.0424702838063],\n",
    "        [150, -0.0353030189872],\n",
    "        [200, -0.0305649638176],\n",
    "        [250, -0.0265223439783],\n",
    "        [300, -0.0227521844208],\n",
    "        [350, -0.019143987447],\n",
    "        [400, -0.015706256032],\n",
    "        [450, -0.0125677362084],\n",
    "    ], columns=['iteration', 'r2'])\n",
    "lstm_results['type'] = 'validation'"
   ]
  },
  {
   "cell_type": "code",
   "execution_count": 47,
   "metadata": {},
   "outputs": [
    {
     "data": {
      "image/png": "[encoded data removed]",
      "text/plain": [
       "<matplotlib.figure.Figure at 0x2b4125bd4d10>"
      ]
     },
     "metadata": {},
     "output_type": "display_data"
    }
   ],
   "source": [
    "seaborn.pointplot(x=\"iteration\", y=\"r2\", data=lstm_results, markers='.', linestyles='-')\n",
    "plt.title('Variation of validation R2 over iterations')\n",
    "seaborn.despine(left=True)\n",
    "plt.show()"
   ]
  },
  {
   "cell_type": "markdown",
   "metadata": {},
   "source": [
    "### Testing results"
   ]
  },
  {
   "cell_type": "code",
   "execution_count": 48,
   "metadata": {
    "collapsed": true
   },
   "outputs": [],
   "source": [
    "test_prediction_file = '../../results/dkt_lstm/by_problem_id/predictions.p'\n",
    "\n",
    "with open(test_prediction_file, 'r') as prediction_file:\n",
    "    predictions = pickle.load(prediction_file)"
   ]
  },
  {
   "cell_type": "code",
   "execution_count": 49,
   "metadata": {
    "scrolled": true
   },
   "outputs": [
    {
     "data": {
      "text/plain": [
       "(array([ array([ 0.,  1.,  1.,  1.,  0.,  1.,  0.,  0.,  0.,  0.,  0.,  0.,  0.,\n",
       "         1.,  1.,  1.,  1.,  0.,  0.,  1.]),\n",
       "        array([ 0.,  0.,  0.,  0.,  0.,  0.,  1.,  1.,  0.,  1.,  1.,  1.,  1.,\n",
       "         1.,  1.,  1.,  1.,  1.,  0.,  0.,  0.,  1.,  0.,  1.,  1.,  1.,\n",
       "         0.,  0.,  1.,  0.,  1.,  0.,  1.,  0.,  1.,  0.,  0.,  1.])], dtype=object),\n",
       " array([ array([ 0.89050364,  0.86510211,  0.87859803,  0.8670398 ,  0.90549248,\n",
       "         0.86127472,  0.90284407,  0.89382327,  0.90859967,  0.90548432,\n",
       "         0.88801014,  0.86797667,  0.86054766,  0.81209654,  0.82035303,\n",
       "         0.83907199,  0.82307279,  0.86848491,  0.87063777,  0.84109551]),\n",
       "        array([ 0.86051422,  0.86274099,  0.86533678,  0.84825784,  0.86659229,\n",
       "         0.86330354,  0.79398513,  0.78713739,  0.85478956,  0.79756987,\n",
       "         0.81610858,  0.80934018,  0.81382692,  0.80486888,  0.79771864,\n",
       "         0.83418673,  0.81484979,  0.84527588,  0.87257445,  0.88396031,\n",
       "         0.86977249,  0.84711796,  0.8751266 ,  0.84109569,  0.8522886 ,\n",
       "         0.84529376,  0.88504446,  0.88279921,  0.85514611,  0.88505226,\n",
       "         0.96178293,  0.95093912,  0.97532457,  0.88761556,  0.8897301 ,\n",
       "         0.8763212 ,  0.89408225,  0.99315631])], dtype=object))"
      ]
     },
     "execution_count": 49,
     "metadata": {},
     "output_type": "execute_result"
    }
   ],
   "source": [
    "predictions[0][:2], predictions[1][:2]"
   ]
  },
  {
   "cell_type": "markdown",
   "metadata": {},
   "source": [
    "#### RMSE results"
   ]
  },
  {
   "cell_type": "code",
   "execution_count": 20,
   "metadata": {
    "collapsed": true
   },
   "outputs": [],
   "source": [
    "def get_rmse(true, predicted):\n",
    "    results = []\n",
    "    for true_sequence, predicted_sequence in zip(true, predicted):\n",
    "        results.append([metrics.mean_squared_error(true_sequence, predicted_sequence)**0.5,\n",
    "                        true_sequence.shape[0]])\n",
    "    return pandas.DataFrame(results, columns=['RMSE', 'Sequence lenght'])\n",
    "\n",
    "def get_mean_rmse(true, predicted):\n",
    "    all_true = numpy.concatenate(true)\n",
    "    all_predicted = numpy.concatenate(predicted)\n",
    "    return metrics.mean_squared_error(all_true, all_predicted)**0.5"
   ]
  },
  {
   "cell_type": "code",
   "execution_count": 51,
   "metadata": {},
   "outputs": [
    {
     "data": {
      "text/plain": [
       "0.51792214915097978"
      ]
     },
     "execution_count": 51,
     "metadata": {},
     "output_type": "execute_result"
    }
   ],
   "source": [
    "get_mean_rmse(*predictions)"
   ]
  },
  {
   "cell_type": "code",
   "execution_count": 52,
   "metadata": {
    "collapsed": true
   },
   "outputs": [],
   "source": [
    "rmse_results = get_rmse(*predictions)"
   ]
  },
  {
   "cell_type": "code",
   "execution_count": 53,
   "metadata": {},
   "outputs": [
    {
     "data": {
      "image/png": "[encoded data removed]",
      "text/plain": [
       "<matplotlib.figure.Figure at 0x2b41261edf50>"
      ]
     },
     "metadata": {},
     "output_type": "display_data"
    }
   ],
   "source": [
    "seaborn.distplot(rmse_results.RMSE, kde=False)\n",
    "seaborn.despine(left=True)"
   ]
  },
  {
   "cell_type": "code",
   "execution_count": 54,
   "metadata": {},
   "outputs": [
    {
     "data": {
      "text/html": [
       "<div>\n",
       "<style>\n",
       "    .dataframe thead tr:only-child th {\n",
       "        text-align: right;\n",
       "    }\n",
       "\n",
       "    .dataframe thead th {\n",
       "        text-align: left;\n",
       "    }\n",
       "\n",
       "    .dataframe tbody tr th {\n",
       "        vertical-align: top;\n",
       "    }\n",
       "</style>\n",
       "<table border=\"1\" class=\"dataframe\">\n",
       "  <thead>\n",
       "    <tr style=\"text-align: right;\">\n",
       "      <th></th>\n",
       "      <th>RMSE</th>\n",
       "      <th>Sequence lenght</th>\n",
       "    </tr>\n",
       "  </thead>\n",
       "  <tbody>\n",
       "    <tr>\n",
       "      <th>count</th>\n",
       "      <td>800.000000</td>\n",
       "      <td>800.000000</td>\n",
       "    </tr>\n",
       "    <tr>\n",
       "      <th>mean</th>\n",
       "      <td>0.489896</td>\n",
       "      <td>78.107500</td>\n",
       "    </tr>\n",
       "    <tr>\n",
       "      <th>std</th>\n",
       "      <td>0.166966</td>\n",
       "      <td>163.339051</td>\n",
       "    </tr>\n",
       "    <tr>\n",
       "      <th>min</th>\n",
       "      <td>0.069897</td>\n",
       "      <td>1.000000</td>\n",
       "    </tr>\n",
       "    <tr>\n",
       "      <th>25%</th>\n",
       "      <td>0.395730</td>\n",
       "      <td>8.000000</td>\n",
       "    </tr>\n",
       "    <tr>\n",
       "      <th>50%</th>\n",
       "      <td>0.513634</td>\n",
       "      <td>21.000000</td>\n",
       "    </tr>\n",
       "    <tr>\n",
       "      <th>75%</th>\n",
       "      <td>0.598364</td>\n",
       "      <td>64.250000</td>\n",
       "    </tr>\n",
       "    <tr>\n",
       "      <th>max</th>\n",
       "      <td>0.867986</td>\n",
       "      <td>1261.000000</td>\n",
       "    </tr>\n",
       "  </tbody>\n",
       "</table>\n",
       "</div>"
      ],
      "text/plain": [
       "             RMSE  Sequence lenght\n",
       "count  800.000000       800.000000\n",
       "mean     0.489896        78.107500\n",
       "std      0.166966       163.339051\n",
       "min      0.069897         1.000000\n",
       "25%      0.395730         8.000000\n",
       "50%      0.513634        21.000000\n",
       "75%      0.598364        64.250000\n",
       "max      0.867986      1261.000000"
      ]
     },
     "execution_count": 54,
     "metadata": {},
     "output_type": "execute_result"
    }
   ],
   "source": [
    "rmse_results.describe()"
   ]
  },
  {
   "cell_type": "code",
   "execution_count": 55,
   "metadata": {},
   "outputs": [
    {
     "data": {
      "image/png": "[encoded data removed]",
      "text/plain": [
       "<matplotlib.figure.Figure at 0x2b4125f78710>"
      ]
     },
     "metadata": {},
     "output_type": "display_data"
    }
   ],
   "source": [
    "seaborn.jointplot(x='RMSE', y='Sequence lenght', data=rmse_results)\n",
    "seaborn.despine(left=True)"
   ]
  },
  {
   "cell_type": "markdown",
   "metadata": {},
   "source": [
    "#### AUC results"
   ]
  },
  {
   "cell_type": "code",
   "execution_count": 19,
   "metadata": {
    "collapsed": true
   },
   "outputs": [],
   "source": [
    "def get_auc_roc_curve(true, predicted):\n",
    "    results = []\n",
    "    ignored_sequences = 0\n",
    "    for true_sequence, predicted_sequence in zip(true, predicted):\n",
    "        try:\n",
    "            results.append([metrics.roc_auc_score(true_sequence, predicted_sequence),\n",
    "                            true_sequence.shape[0]])\n",
    "        except ValueError:\n",
    "            ignored_sequences += 1\n",
    "    print '{} sequences with only one class, ignoring.'.format(ignored_sequences)\n",
    "    return pandas.DataFrame(results, columns=['AUC', 'Sequence lenght'])\n",
    "\n",
    "def get_mean_auc_roc_curve(true, predicted):\n",
    "    all_true = numpy.concatenate(true)\n",
    "    all_predicted = numpy.concatenate(predicted)\n",
    "    return metrics.roc_auc_score(all_true, all_predicted)"
   ]
  },
  {
   "cell_type": "code",
   "execution_count": 57,
   "metadata": {},
   "outputs": [
    {
     "name": "stdout",
     "output_type": "stream",
     "text": [
      "111 sequences with only one class, ignoring.\n"
     ]
    }
   ],
   "source": [
    "aucs = get_auc_roc_curve(*predictions)"
   ]
  },
  {
   "cell_type": "code",
   "execution_count": 58,
   "metadata": {},
   "outputs": [
    {
     "data": {
      "text/html": [
       "<div>\n",
       "<style>\n",
       "    .dataframe thead tr:only-child th {\n",
       "        text-align: right;\n",
       "    }\n",
       "\n",
       "    .dataframe thead th {\n",
       "        text-align: left;\n",
       "    }\n",
       "\n",
       "    .dataframe tbody tr th {\n",
       "        vertical-align: top;\n",
       "    }\n",
       "</style>\n",
       "<table border=\"1\" class=\"dataframe\">\n",
       "  <thead>\n",
       "    <tr style=\"text-align: right;\">\n",
       "      <th></th>\n",
       "      <th>AUC</th>\n",
       "      <th>Sequence lenght</th>\n",
       "    </tr>\n",
       "  </thead>\n",
       "  <tbody>\n",
       "    <tr>\n",
       "      <th>count</th>\n",
       "      <td>689.000000</td>\n",
       "      <td>689.000000</td>\n",
       "    </tr>\n",
       "    <tr>\n",
       "      <th>mean</th>\n",
       "      <td>0.209416</td>\n",
       "      <td>89.876633</td>\n",
       "    </tr>\n",
       "    <tr>\n",
       "      <th>std</th>\n",
       "      <td>0.249353</td>\n",
       "      <td>173.151829</td>\n",
       "    </tr>\n",
       "    <tr>\n",
       "      <th>min</th>\n",
       "      <td>0.000000</td>\n",
       "      <td>2.000000</td>\n",
       "    </tr>\n",
       "    <tr>\n",
       "      <th>25%</th>\n",
       "      <td>0.047619</td>\n",
       "      <td>12.000000</td>\n",
       "    </tr>\n",
       "    <tr>\n",
       "      <th>50%</th>\n",
       "      <td>0.108851</td>\n",
       "      <td>26.000000</td>\n",
       "    </tr>\n",
       "    <tr>\n",
       "      <th>75%</th>\n",
       "      <td>0.269231</td>\n",
       "      <td>80.000000</td>\n",
       "    </tr>\n",
       "    <tr>\n",
       "      <th>max</th>\n",
       "      <td>1.000000</td>\n",
       "      <td>1261.000000</td>\n",
       "    </tr>\n",
       "  </tbody>\n",
       "</table>\n",
       "</div>"
      ],
      "text/plain": [
       "              AUC  Sequence lenght\n",
       "count  689.000000       689.000000\n",
       "mean     0.209416        89.876633\n",
       "std      0.249353       173.151829\n",
       "min      0.000000         2.000000\n",
       "25%      0.047619        12.000000\n",
       "50%      0.108851        26.000000\n",
       "75%      0.269231        80.000000\n",
       "max      1.000000      1261.000000"
      ]
     },
     "execution_count": 58,
     "metadata": {},
     "output_type": "execute_result"
    }
   ],
   "source": [
    "aucs.describe()"
   ]
  },
  {
   "cell_type": "code",
   "execution_count": 59,
   "metadata": {},
   "outputs": [
    {
     "data": {
      "text/plain": [
       "0.12763605192678026"
      ]
     },
     "execution_count": 59,
     "metadata": {},
     "output_type": "execute_result"
    }
   ],
   "source": [
    "get_mean_auc_roc_curve(*predictions)"
   ]
  },
  {
   "cell_type": "markdown",
   "metadata": {},
   "source": [
    "#### R2 results"
   ]
  },
  {
   "cell_type": "code",
   "execution_count": 18,
   "metadata": {
    "collapsed": true
   },
   "outputs": [],
   "source": [
    "def get_r2(true, predicted):\n",
    "    results = []\n",
    "    for true_sequence, predicted_sequence in zip(true, predicted):\n",
    "        results.append([metrics.r2_score(true_sequence, predicted_sequence),\n",
    "                        true_sequence.shape[0]])\n",
    "    return pandas.DataFrame(results, columns=['R2', 'Sequence lenght'])\n",
    "\n",
    "def get_mean_r2(true, predicted):\n",
    "    all_true = numpy.concatenate(true)\n",
    "    all_predicted = numpy.concatenate(predicted)\n",
    "    return metrics.r2_score(all_true, all_predicted)"
   ]
  },
  {
   "cell_type": "code",
   "execution_count": 61,
   "metadata": {},
   "outputs": [
    {
     "data": {
      "text/plain": [
       "-0.211390168048323"
      ]
     },
     "execution_count": 61,
     "metadata": {},
     "output_type": "execute_result"
    }
   ],
   "source": [
    "get_mean_r2(*predictions)"
   ]
  },
  {
   "cell_type": "code",
   "execution_count": 62,
   "metadata": {},
   "outputs": [
    {
     "data": {
      "text/html": [
       "<div>\n",
       "<style>\n",
       "    .dataframe thead tr:only-child th {\n",
       "        text-align: right;\n",
       "    }\n",
       "\n",
       "    .dataframe thead th {\n",
       "        text-align: left;\n",
       "    }\n",
       "\n",
       "    .dataframe tbody tr th {\n",
       "        vertical-align: top;\n",
       "    }\n",
       "</style>\n",
       "<table border=\"1\" class=\"dataframe\">\n",
       "  <thead>\n",
       "    <tr style=\"text-align: right;\">\n",
       "      <th></th>\n",
       "      <th>R2</th>\n",
       "      <th>Sequence lenght</th>\n",
       "    </tr>\n",
       "  </thead>\n",
       "  <tbody>\n",
       "    <tr>\n",
       "      <th>count</th>\n",
       "      <td>800.000000</td>\n",
       "      <td>800.000000</td>\n",
       "    </tr>\n",
       "    <tr>\n",
       "      <th>mean</th>\n",
       "      <td>-0.568023</td>\n",
       "      <td>78.107500</td>\n",
       "    </tr>\n",
       "    <tr>\n",
       "      <th>std</th>\n",
       "      <td>1.534304</td>\n",
       "      <td>163.339051</td>\n",
       "    </tr>\n",
       "    <tr>\n",
       "      <th>min</th>\n",
       "      <td>-15.975795</td>\n",
       "      <td>1.000000</td>\n",
       "    </tr>\n",
       "    <tr>\n",
       "      <th>25%</th>\n",
       "      <td>-0.448248</td>\n",
       "      <td>8.000000</td>\n",
       "    </tr>\n",
       "    <tr>\n",
       "      <th>50%</th>\n",
       "      <td>-0.189086</td>\n",
       "      <td>21.000000</td>\n",
       "    </tr>\n",
       "    <tr>\n",
       "      <th>75%</th>\n",
       "      <td>-0.075918</td>\n",
       "      <td>64.250000</td>\n",
       "    </tr>\n",
       "    <tr>\n",
       "      <th>max</th>\n",
       "      <td>0.091151</td>\n",
       "      <td>1261.000000</td>\n",
       "    </tr>\n",
       "  </tbody>\n",
       "</table>\n",
       "</div>"
      ],
      "text/plain": [
       "               R2  Sequence lenght\n",
       "count  800.000000       800.000000\n",
       "mean    -0.568023        78.107500\n",
       "std      1.534304       163.339051\n",
       "min    -15.975795         1.000000\n",
       "25%     -0.448248         8.000000\n",
       "50%     -0.189086        21.000000\n",
       "75%     -0.075918        64.250000\n",
       "max      0.091151      1261.000000"
      ]
     },
     "execution_count": 62,
     "metadata": {},
     "output_type": "execute_result"
    }
   ],
   "source": [
    "r2s = get_r2(*predictions)\n",
    "r2s.describe()"
   ]
  },
  {
   "cell_type": "code",
   "execution_count": 63,
   "metadata": {},
   "outputs": [
    {
     "data": {
      "text/plain": [
       "<seaborn.axisgrid.JointGrid at 0x2b41261220d0>"
      ]
     },
     "execution_count": 63,
     "metadata": {},
     "output_type": "execute_result"
    },
    {
     "data": {
      "image/png": "[encoded data removed]",
      "text/plain": [
       "<matplotlib.figure.Figure at 0x2b4125f39550>"
      ]
     },
     "metadata": {},
     "output_type": "display_data"
    }
   ],
   "source": [
    "seaborn.jointplot(x='R2', y='Sequence lenght', data=r2s)"
   ]
  },
  {
   "cell_type": "markdown",
   "metadata": {
    "collapsed": true
   },
   "source": [
    "---"
   ]
  },
  {
   "cell_type": "markdown",
   "metadata": {},
   "source": [
    "## Loss2"
   ]
  },
  {
   "cell_type": "code",
   "execution_count": 10,
   "metadata": {},
   "outputs": [
    {
     "ename": "IOError",
     "evalue": "[Errno 2] No such file or directory: '../../results/dkt_lstm/by_problem_id/loss2/predictions.p'",
     "output_type": "error",
     "traceback": [
      "\u001b[0;31m---------------------------------------------------------------------------\u001b[0m",
      "\u001b[0;31mIOError\u001b[0m                                   Traceback (most recent call last)",
      "\u001b[0;32m<ipython-input-10-ef3f753e992f>\u001b[0m in \u001b[0;36m<module>\u001b[0;34m()\u001b[0m\n\u001b[1;32m      1\u001b[0m \u001b[0mtest_prediction_file\u001b[0m \u001b[0;34m=\u001b[0m \u001b[0;34m'../../results/dkt_lstm/by_problem_id/loss2/predictions.p'\u001b[0m\u001b[0;34m\u001b[0m\u001b[0m\n\u001b[1;32m      2\u001b[0m \u001b[0;34m\u001b[0m\u001b[0m\n\u001b[0;32m----> 3\u001b[0;31m \u001b[0;32mwith\u001b[0m \u001b[0mopen\u001b[0m\u001b[0;34m(\u001b[0m\u001b[0mtest_prediction_file\u001b[0m\u001b[0;34m,\u001b[0m \u001b[0;34m'r'\u001b[0m\u001b[0;34m)\u001b[0m \u001b[0;32mas\u001b[0m \u001b[0mprediction_file\u001b[0m\u001b[0;34m:\u001b[0m\u001b[0;34m\u001b[0m\u001b[0m\n\u001b[0m\u001b[1;32m      4\u001b[0m     \u001b[0mpredictions\u001b[0m \u001b[0;34m=\u001b[0m \u001b[0mpickle\u001b[0m\u001b[0;34m.\u001b[0m\u001b[0mload\u001b[0m\u001b[0;34m(\u001b[0m\u001b[0mprediction_file\u001b[0m\u001b[0;34m)\u001b[0m\u001b[0;34m\u001b[0m\u001b[0m\n",
      "\u001b[0;31mIOError\u001b[0m: [Errno 2] No such file or directory: '../../results/dkt_lstm/by_problem_id/loss2/predictions.p'"
     ]
    }
   ],
   "source": [
    "test_prediction_file = '../../results/dkt_lstm/by_problem_id/loss2/predictions.p'\n",
    "\n",
    "with open(test_prediction_file, 'r') as prediction_file:\n",
    "    predictions = pickle.load(prediction_file)"
   ]
  },
  {
   "cell_type": "code",
   "execution_count": 27,
   "metadata": {
    "scrolled": false
   },
   "outputs": [
    {
     "data": {
      "text/plain": [
       "(array([ array([ 1.,  0.,  0.,  0.,  0.,  1.,  0.,  0.,  0.,  0.,  0.,  0.,  0.,\n",
       "         0.,  1.,  1.,  0.,  0.,  0.,  0.,  0.,  0.,  0.,  1.,  0.,  0.,\n",
       "         0.,  1.,  0.,  0.,  0.,  1.,  0.,  0.,  0.,  0.,  0.,  0.,  0.,\n",
       "         0.,  0.,  0.,  0.,  0.,  0.,  0.,  1.,  0.,  0.,  1.,  0.,  1.,\n",
       "         1.,  1.,  1.,  1.,  1.,  1.,  1.,  1.,  1.,  1.,  0.,  1.,  1.,\n",
       "         1.,  0.,  0.,  1.,  1.,  1.,  1.]),\n",
       "        array([ 0.,  1.,  0.,  1.,  0.,  0.,  1.,  1.,  0.,  1.,  1.,  0.,  1.])], dtype=object),\n",
       " array([ array([ 6.90831709,  6.90310478,  6.90170479,  6.91735411,  6.90674305,\n",
       "         6.91572857,  6.9174881 ,  6.91352987,  6.90544891,  6.92284298,\n",
       "         6.9186058 ,  6.90685225,  6.91456127,  6.91244268,  6.92584848,\n",
       "         6.90706778,  6.91104698,  6.90666676,  6.91724157,  6.92098045,\n",
       "         6.91334391,  6.91187668,  6.92582607,  6.90050793,  6.91416025,\n",
       "         6.90985203,  6.90830421,  6.92505217,  6.91651106,  6.92109346,\n",
       "         6.92092991,  6.91731787,  6.91242409,  6.91423178,  6.91735172,\n",
       "         6.91831112,  6.90867615,  6.90262222,  6.90862274,  6.91239738,\n",
       "         6.91187859,  6.91062403,  6.92124271,  6.91478634,  6.91953802,\n",
       "         6.91494226,  6.92248487,  6.92145395,  6.90488672,  6.91926479,\n",
       "         6.91007042,  6.9081049 ,  6.91510248,  6.91634989,  6.9068346 ,\n",
       "         6.91253281,  6.91223526,  6.91212225,  6.91097498,  6.91363382,\n",
       "         6.81964016,  6.81643963,  6.83799601,  6.81554985,  6.83108091,\n",
       "         6.82287502,  6.84230709,  6.82097483,  6.81669283,  6.81518507,\n",
       "         6.80521202,  6.81527567]),\n",
       "        array([ 6.83344698,  6.83158588,  6.82088852,  6.83404636,  6.82681847,\n",
       "         6.84047651,  6.81755447,  6.84057188,  6.84327412,  6.83389521,\n",
       "         6.83670092,  6.82987022,  6.82458258])], dtype=object))"
      ]
     },
     "execution_count": 27,
     "metadata": {},
     "output_type": "execute_result"
    }
   ],
   "source": [
    "predictions[0][:2], predictions[1][:2]"
   ]
  },
  {
   "cell_type": "code",
   "execution_count": 23,
   "metadata": {
    "collapsed": true
   },
   "outputs": [],
   "source": [
    "rmse_results = get_rmse(*predictions)"
   ]
  },
  {
   "cell_type": "code",
   "execution_count": null,
   "metadata": {
    "collapsed": true
   },
   "outputs": [],
   "source": [
    "seaborn.distplot(rmse_results.RMSE, kde=False)\n",
    "seaborn.despine(left=True)"
   ]
  },
  {
   "cell_type": "code",
   "execution_count": 24,
   "metadata": {},
   "outputs": [
    {
     "data": {
      "text/html": [
       "<div>\n",
       "<style>\n",
       "    .dataframe thead tr:only-child th {\n",
       "        text-align: right;\n",
       "    }\n",
       "\n",
       "    .dataframe thead th {\n",
       "        text-align: left;\n",
       "    }\n",
       "\n",
       "    .dataframe tbody tr th {\n",
       "        vertical-align: top;\n",
       "    }\n",
       "</style>\n",
       "<table border=\"1\" class=\"dataframe\">\n",
       "  <thead>\n",
       "    <tr style=\"text-align: right;\">\n",
       "      <th></th>\n",
       "      <th>RMSE</th>\n",
       "      <th>Sequence lenght</th>\n",
       "    </tr>\n",
       "  </thead>\n",
       "  <tbody>\n",
       "    <tr>\n",
       "      <th>count</th>\n",
       "      <td>800.000000</td>\n",
       "      <td>800.000000</td>\n",
       "    </tr>\n",
       "    <tr>\n",
       "      <th>mean</th>\n",
       "      <td>6.132072</td>\n",
       "      <td>72.640000</td>\n",
       "    </tr>\n",
       "    <tr>\n",
       "      <th>std</th>\n",
       "      <td>0.320483</td>\n",
       "      <td>150.521489</td>\n",
       "    </tr>\n",
       "    <tr>\n",
       "      <th>min</th>\n",
       "      <td>5.233535</td>\n",
       "      <td>1.000000</td>\n",
       "    </tr>\n",
       "    <tr>\n",
       "      <th>25%</th>\n",
       "      <td>5.989028</td>\n",
       "      <td>8.000000</td>\n",
       "    </tr>\n",
       "    <tr>\n",
       "      <th>50%</th>\n",
       "      <td>6.166323</td>\n",
       "      <td>21.000000</td>\n",
       "    </tr>\n",
       "    <tr>\n",
       "      <th>75%</th>\n",
       "      <td>6.331806</td>\n",
       "      <td>58.000000</td>\n",
       "    </tr>\n",
       "    <tr>\n",
       "      <th>max</th>\n",
       "      <td>6.866883</td>\n",
       "      <td>1094.000000</td>\n",
       "    </tr>\n",
       "  </tbody>\n",
       "</table>\n",
       "</div>"
      ],
      "text/plain": [
       "             RMSE  Sequence lenght\n",
       "count  800.000000       800.000000\n",
       "mean     6.132072        72.640000\n",
       "std      0.320483       150.521489\n",
       "min      5.233535         1.000000\n",
       "25%      5.989028         8.000000\n",
       "50%      6.166323        21.000000\n",
       "75%      6.331806        58.000000\n",
       "max      6.866883      1094.000000"
      ]
     },
     "execution_count": 24,
     "metadata": {},
     "output_type": "execute_result"
    }
   ],
   "source": [
    "rmse_results.describe()"
   ]
  },
  {
   "cell_type": "markdown",
   "metadata": {
    "collapsed": true
   },
   "source": [
    "---"
   ]
  },
  {
   "cell_type": "markdown",
   "metadata": {},
   "source": [
    "Predictions with sigmoid function"
   ]
  },
  {
   "cell_type": "code",
   "execution_count": 21,
   "metadata": {
    "collapsed": true
   },
   "outputs": [],
   "source": [
    "test_prediction_file = '../../results/dkt_lstm/embeddings/predictions.p'\n",
    "\n",
    "with open(test_prediction_file, 'r') as prediction_file:\n",
    "    predictions = pickle.load(prediction_file)"
   ]
  },
  {
   "cell_type": "code",
   "execution_count": 22,
   "metadata": {},
   "outputs": [
    {
     "data": {
      "text/plain": [
       "(array([ array([ 1.,  1.,  1.,  0.,  0.,  0.,  0.,  1.,  1.,  0.,  1.,  1.,  1.,\n",
       "         0.,  0.,  0.,  0.,  0.,  0.,  0.,  0.,  0.,  0.,  0.,  0.,  0.,\n",
       "         0.,  1.,  1.,  1.,  0.,  0.,  0.,  0.,  0.,  0.,  0.,  0.,  0.,\n",
       "         0.,  0.,  0.,  1.,  1.,  1.,  1.,  1.,  1.,  0.,  0.,  0.,  0.,\n",
       "         0.,  1.,  1.,  0.,  1.,  0.,  0.,  0.,  1.]),\n",
       "        array([ 0.,  1.,  0.,  0.,  1.,  0.,  1.,  1.,  0.,  0.,  0.,  1.,  0.,\n",
       "         0.,  1.,  0.,  1.,  1.,  0.,  0.,  1.,  1.,  1.,  1.,  1.,  1.,\n",
       "         1.,  1.,  1.,  1.,  0.,  1.,  0.,  0.,  0.,  1.,  0.,  1.,  1.,\n",
       "         0.,  1.,  0.,  1.,  1.,  1.,  1.,  1.,  1.,  1.,  1.,  1.,  0.,\n",
       "         0.,  0.,  0.,  0.,  1.,  1.,  1.,  1.,  1.,  0.,  1.,  1.,  0.,\n",
       "         1.,  1.,  0.,  0.,  1.,  0.,  0.,  0.,  1.,  0.,  0.,  0.,  1.,\n",
       "         0.,  1.,  1.,  1.,  1.,  1.,  1.,  1.,  1.,  1.,  1.,  1.,  1.,\n",
       "         1.,  1.,  1.,  0.,  1.,  1.,  1.,  1.,  1.,  1.,  1.,  1.,  0.,\n",
       "         0.,  1.,  1.,  1.,  1.,  1.,  1.,  0.,  1.,  1.,  1.,  1.,  1.,\n",
       "         0.,  0.,  1.,  1.,  0.,  1.,  1.,  1.,  1.,  1.,  0.,  0.,  1.,\n",
       "         0.,  1.,  0.,  1.,  1.,  0.,  0.,  1.,  1.,  1.,  0.,  1.,  0.,\n",
       "         1.,  1.,  1.,  1.,  1.,  1.,  1.,  0.,  1.,  1.,  1.,  1.,  1.,\n",
       "         1.,  1.,  1.,  1.,  1.,  1.,  1.,  1.,  0.,  1.,  0.,  1.,  1.,\n",
       "         1.,  1.,  1.,  1.,  0.,  0.,  1.,  1.,  0.,  1.,  1.,  0.,  1.,\n",
       "         0.,  1.,  1.,  1.,  1.,  1.,  1.,  0.,  1.,  1.,  1.,  1.,  1.,\n",
       "         0.,  1.,  0.,  1.,  0.,  0.,  1.,  0.,  0.,  0.,  1.,  1.,  0.,\n",
       "         1.,  1.,  1.,  0.,  0.,  1.,  0.,  1.,  1.,  1.,  1.,  0.,  0.,\n",
       "         0.,  0.,  0.,  0.,  0.,  0.,  1.,  1.,  1.,  1.,  0.,  0.,  0.,\n",
       "         1.,  1.,  1.,  1.,  1.,  0.,  1.,  1.,  0.,  1.,  1.,  1.,  1.,\n",
       "         1.,  1.,  1.,  0.,  1.,  1.,  1.,  1.,  1.,  1.])], dtype=object),\n",
       " array([ array([ 0.53977126,  0.53567541,  0.53774959,  0.52936262,  0.52957076,\n",
       "         0.52647233,  0.53057718,  0.53015018,  0.53394628,  0.52676499,\n",
       "         0.5269345 ,  0.53384405,  0.5347175 ,  0.52857614,  0.53395593,\n",
       "         0.53020316,  0.53191268,  0.53133327,  0.53107101,  0.52795994,\n",
       "         0.53181607,  0.5288555 ,  0.53074718,  0.5293957 ,  0.52883846,\n",
       "         0.53068584,  0.52916342,  0.54196501,  0.52890068,  0.52867496,\n",
       "         0.52822804,  0.52985781,  0.52970159,  0.53031588,  0.53170443,\n",
       "         0.53305423,  0.53180397,  0.52928239,  0.52999979,  0.52935725,\n",
       "         0.53707266,  0.53325331,  0.53294015,  0.53175694,  0.53067613,\n",
       "         0.5258075 ,  0.53716862,  0.53526902,  0.53398675,  0.5319469 ,\n",
       "         0.53242642,  0.5339638 ,  0.53317523,  0.53027976,  0.53077096,\n",
       "         0.53058225,  0.53321654,  0.53305346,  0.53161007,  0.53570527,\n",
       "         0.5401774 ]),\n",
       "        array([ 0.51941574,  0.52806139,  0.52977031,  0.52890557,  0.52703565,\n",
       "         0.52795368,  0.52823925,  0.52136397,  0.52751994,  0.53026354,\n",
       "         0.52762216,  0.52982581,  0.52691597,  0.52692485,  0.52354026,\n",
       "         0.52216381,  0.52255577,  0.52076781,  0.52183223,  0.52218044,\n",
       "         0.52199817,  0.52089351,  0.52774101,  0.52116191,  0.51958793,\n",
       "         0.52475184,  0.52525455,  0.52324057,  0.52175009,  0.52400017,\n",
       "         0.52454329,  0.52389979,  0.52434069,  0.52225703,  0.5249182 ,\n",
       "         0.52388686,  0.52384675,  0.5244689 ,  0.52416748,  0.5232988 ,\n",
       "         0.52453589,  0.52436507,  0.52271074,  0.52344501,  0.52503592,\n",
       "         0.5247274 ,  0.52378672,  0.52512497,  0.52414387,  0.52762598,\n",
       "         0.52534264,  0.52308106,  0.52386785,  0.52543783,  0.52329731,\n",
       "         0.52315789,  0.52450782,  0.52290124,  0.5245325 ,  0.52274871,\n",
       "         0.52389812,  0.52077848,  0.52421141,  0.5261606 ,  0.52450508,\n",
       "         0.52215528,  0.52288127,  0.52189755,  0.52465415,  0.5242793 ,\n",
       "         0.52595997,  0.52177596,  0.5248875 ,  0.52450126,  0.52467442,\n",
       "         0.52182621,  0.5230034 ,  0.52409083,  0.52345198,  0.52176005,\n",
       "         0.5289349 ,  0.52285582,  0.52928585,  0.52062023,  0.52637261,\n",
       "         0.53169805,  0.5272457 ,  0.53178704,  0.53151512,  0.52797866,\n",
       "         0.52910292,  0.52742898,  0.5258224 ,  0.52850801,  0.5250873 ,\n",
       "         0.52578467,  0.52625746,  0.52606356,  0.52472234,  0.5252521 ,\n",
       "         0.52704686,  0.52719581,  0.52500761,  0.52788776,  0.52791023,\n",
       "         0.52858961,  0.53249019,  0.52695411,  0.52804589,  0.52873665,\n",
       "         0.52448082,  0.53074044,  0.525783  ,  0.5276925 ,  0.52469575,\n",
       "         0.52548188,  0.52473855,  0.52645963,  0.52736205,  0.52640849,\n",
       "         0.52680004,  0.52277392,  0.52378267,  0.53038847,  0.52791023,\n",
       "         0.52734232,  0.52056324,  0.52201807,  0.52041709,  0.52240402,\n",
       "         0.52120471,  0.52223378,  0.52245331,  0.52169371,  0.52854991,\n",
       "         0.5203352 ,  0.52059013,  0.52323735,  0.52076912,  0.52175164,\n",
       "         0.52357227,  0.522838  ,  0.52191812,  0.52253902,  0.52199155,\n",
       "         0.52275991,  0.52163553,  0.52282763,  0.52358907,  0.52094609,\n",
       "         0.5232529 ,  0.53166544,  0.52858412,  0.53050464,  0.52056324,\n",
       "         0.52974749,  0.52265316,  0.52300799,  0.52265716,  0.52040243,\n",
       "         0.52209771,  0.5246523 ,  0.52397835,  0.52274776,  0.52670103,\n",
       "         0.52816439,  0.52813488,  0.52117378,  0.52917337,  0.52625304,\n",
       "         0.52642721,  0.52105355,  0.52226269,  0.52172792,  0.52033752,\n",
       "         0.52281827,  0.52424937,  0.52450156,  0.52342367,  0.52250522,\n",
       "         0.52379644,  0.52666438,  0.523386  ,  0.52507734,  0.52470756,\n",
       "         0.5254544 ,  0.52490944,  0.52792728,  0.52500755,  0.53094286,\n",
       "         0.53061503,  0.53138155,  0.5273425 ,  0.52230239,  0.5219875 ,\n",
       "         0.52236736,  0.52209789,  0.52282768,  0.52357233,  0.52255923,\n",
       "         0.52920026,  0.53263652,  0.53134495,  0.53013647,  0.53016824,\n",
       "         0.5322969 ,  0.53115094,  0.53222358,  0.52925622,  0.52818495,\n",
       "         0.53004962,  0.53125751,  0.53138947,  0.52978486,  0.53072816,\n",
       "         0.5299992 ,  0.52913278,  0.53351337,  0.52986354,  0.53075391,\n",
       "         0.53094476,  0.53122067,  0.5303967 ,  0.53101057,  0.53084868,\n",
       "         0.53797102,  0.53874904,  0.53815603,  0.53950757,  0.53971487,\n",
       "         0.53828675,  0.54071617,  0.54153252,  0.53994286,  0.53908139,\n",
       "         0.52942085,  0.53028804,  0.53771579,  0.53943753,  0.52972823,\n",
       "         0.53165334,  0.52927989,  0.53075391,  0.53137916,  0.53084856,\n",
       "         0.52783364,  0.53028244,  0.53125751,  0.53121114,  0.52963972,\n",
       "         0.53746158,  0.53388846,  0.53168887,  0.5292592 ,  0.5318023 ,\n",
       "         0.52949804,  0.54363477])], dtype=object))"
      ]
     },
     "execution_count": 22,
     "metadata": {},
     "output_type": "execute_result"
    }
   ],
   "source": [
    "predictions[0][:2], predictions[1][:2]"
   ]
  },
  {
   "cell_type": "code",
   "execution_count": 23,
   "metadata": {},
   "outputs": [
    {
     "data": {
      "text/plain": [
       "0.49090798024739141"
      ]
     },
     "execution_count": 23,
     "metadata": {},
     "output_type": "execute_result"
    }
   ],
   "source": [
    "rmse_results = get_rmse(*predictions)\n",
    "get_mean_rmse(*predictions)"
   ]
  },
  {
   "cell_type": "code",
   "execution_count": 24,
   "metadata": {},
   "outputs": [
    {
     "data": {
      "image/png": "[encoded data removed]",
      "text/plain": [
       "<matplotlib.figure.Figure at 0x7fa24c20f350>"
      ]
     },
     "metadata": {},
     "output_type": "display_data"
    }
   ],
   "source": [
    "seaborn.distplot(rmse_results.RMSE, kde=False)\n",
    "seaborn.despine(left=True)"
   ]
  },
  {
   "cell_type": "code",
   "execution_count": 25,
   "metadata": {},
   "outputs": [
    {
     "data": {
      "text/html": [
       "<div>\n",
       "<table border=\"1\" class=\"dataframe\">\n",
       "  <thead>\n",
       "    <tr style=\"text-align: right;\">\n",
       "      <th></th>\n",
       "      <th>RMSE</th>\n",
       "      <th>Sequence lenght</th>\n",
       "    </tr>\n",
       "  </thead>\n",
       "  <tbody>\n",
       "    <tr>\n",
       "      <th>count</th>\n",
       "      <td>800.000000</td>\n",
       "      <td>800.000000</td>\n",
       "    </tr>\n",
       "    <tr>\n",
       "      <th>mean</th>\n",
       "      <td>0.470800</td>\n",
       "      <td>79.993750</td>\n",
       "    </tr>\n",
       "    <tr>\n",
       "      <th>std</th>\n",
       "      <td>0.054054</td>\n",
       "      <td>155.786603</td>\n",
       "    </tr>\n",
       "    <tr>\n",
       "      <th>min</th>\n",
       "      <td>0.268960</td>\n",
       "      <td>1.000000</td>\n",
       "    </tr>\n",
       "    <tr>\n",
       "      <th>25%</th>\n",
       "      <td>0.461719</td>\n",
       "      <td>10.000000</td>\n",
       "    </tr>\n",
       "    <tr>\n",
       "      <th>50%</th>\n",
       "      <td>0.486383</td>\n",
       "      <td>23.000000</td>\n",
       "    </tr>\n",
       "    <tr>\n",
       "      <th>75%</th>\n",
       "      <td>0.498005</td>\n",
       "      <td>74.000000</td>\n",
       "    </tr>\n",
       "    <tr>\n",
       "      <th>max</th>\n",
       "      <td>0.567708</td>\n",
       "      <td>1177.000000</td>\n",
       "    </tr>\n",
       "  </tbody>\n",
       "</table>\n",
       "</div>"
      ],
      "text/plain": [
       "             RMSE  Sequence lenght\n",
       "count  800.000000       800.000000\n",
       "mean     0.470800        79.993750\n",
       "std      0.054054       155.786603\n",
       "min      0.268960         1.000000\n",
       "25%      0.461719        10.000000\n",
       "50%      0.486383        23.000000\n",
       "75%      0.498005        74.000000\n",
       "max      0.567708      1177.000000"
      ]
     },
     "execution_count": 25,
     "metadata": {},
     "output_type": "execute_result"
    }
   ],
   "source": [
    "rmse_results.describe()"
   ]
  },
  {
   "cell_type": "code",
   "execution_count": null,
   "metadata": {
    "collapsed": true
   },
   "outputs": [],
   "source": [
    "seaborn.jointplot(x='RMSE', y='Sequence lenght', data=rmse_results)"
   ]
  },
  {
   "cell_type": "code",
   "execution_count": 26,
   "metadata": {},
   "outputs": [
    {
     "data": {
      "text/plain": [
       "0.49885915797537084"
      ]
     },
     "execution_count": 26,
     "metadata": {},
     "output_type": "execute_result"
    }
   ],
   "source": [
    "get_mean_auc_roc_curve(predictions[0], predictions[1])"
   ]
  },
  {
   "cell_type": "code",
   "execution_count": 27,
   "metadata": {},
   "outputs": [
    {
     "name": "stdout",
     "output_type": "stream",
     "text": [
      "111 sequences with only one class, ignoring.\n"
     ]
    }
   ],
   "source": [
    "aucs = get_auc_roc_curve(*predictions)"
   ]
  },
  {
   "cell_type": "code",
   "execution_count": 28,
   "metadata": {},
   "outputs": [
    {
     "data": {
      "text/html": [
       "<div>\n",
       "<table border=\"1\" class=\"dataframe\">\n",
       "  <thead>\n",
       "    <tr style=\"text-align: right;\">\n",
       "      <th></th>\n",
       "      <th>AUC</th>\n",
       "      <th>Sequence lenght</th>\n",
       "    </tr>\n",
       "  </thead>\n",
       "  <tbody>\n",
       "    <tr>\n",
       "      <th>count</th>\n",
       "      <td>689.000000</td>\n",
       "      <td>689.000000</td>\n",
       "    </tr>\n",
       "    <tr>\n",
       "      <th>mean</th>\n",
       "      <td>0.593195</td>\n",
       "      <td>92.089985</td>\n",
       "    </tr>\n",
       "    <tr>\n",
       "      <th>std</th>\n",
       "      <td>0.185160</td>\n",
       "      <td>164.701061</td>\n",
       "    </tr>\n",
       "    <tr>\n",
       "      <th>min</th>\n",
       "      <td>0.000000</td>\n",
       "      <td>2.000000</td>\n",
       "    </tr>\n",
       "    <tr>\n",
       "      <th>25%</th>\n",
       "      <td>0.477913</td>\n",
       "      <td>14.000000</td>\n",
       "    </tr>\n",
       "    <tr>\n",
       "      <th>50%</th>\n",
       "      <td>0.553846</td>\n",
       "      <td>31.000000</td>\n",
       "    </tr>\n",
       "    <tr>\n",
       "      <th>75%</th>\n",
       "      <td>0.685185</td>\n",
       "      <td>86.000000</td>\n",
       "    </tr>\n",
       "    <tr>\n",
       "      <th>max</th>\n",
       "      <td>1.000000</td>\n",
       "      <td>1177.000000</td>\n",
       "    </tr>\n",
       "  </tbody>\n",
       "</table>\n",
       "</div>"
      ],
      "text/plain": [
       "              AUC  Sequence lenght\n",
       "count  689.000000       689.000000\n",
       "mean     0.593195        92.089985\n",
       "std      0.185160       164.701061\n",
       "min      0.000000         2.000000\n",
       "25%      0.477913        14.000000\n",
       "50%      0.553846        31.000000\n",
       "75%      0.685185        86.000000\n",
       "max      1.000000      1177.000000"
      ]
     },
     "execution_count": 28,
     "metadata": {},
     "output_type": "execute_result"
    }
   ],
   "source": [
    "aucs.describe()"
   ]
  },
  {
   "cell_type": "code",
   "execution_count": null,
   "metadata": {
    "collapsed": true
   },
   "outputs": [],
   "source": []
  },
  {
   "cell_type": "markdown",
   "metadata": {},
   "source": [
    "#### R2 results"
   ]
  },
  {
   "cell_type": "code",
   "execution_count": 30,
   "metadata": {},
   "outputs": [
    {
     "data": {
      "text/plain": [
       "-0.071446377090888413"
      ]
     },
     "execution_count": 30,
     "metadata": {},
     "output_type": "execute_result"
    }
   ],
   "source": [
    "get_mean_r2(*predictions)"
   ]
  },
  {
   "cell_type": "code",
   "execution_count": 31,
   "metadata": {},
   "outputs": [
    {
     "data": {
      "text/html": [
       "<div>\n",
       "<table border=\"1\" class=\"dataframe\">\n",
       "  <thead>\n",
       "    <tr style=\"text-align: right;\">\n",
       "      <th></th>\n",
       "      <th>R2</th>\n",
       "      <th>Sequence lenght</th>\n",
       "    </tr>\n",
       "  </thead>\n",
       "  <tbody>\n",
       "    <tr>\n",
       "      <th>count</th>\n",
       "      <td>800.000000</td>\n",
       "      <td>800.000000</td>\n",
       "    </tr>\n",
       "    <tr>\n",
       "      <th>mean</th>\n",
       "      <td>-0.307164</td>\n",
       "      <td>79.993750</td>\n",
       "    </tr>\n",
       "    <tr>\n",
       "      <th>std</th>\n",
       "      <td>0.644805</td>\n",
       "      <td>155.786603</td>\n",
       "    </tr>\n",
       "    <tr>\n",
       "      <th>min</th>\n",
       "      <td>-7.307491</td>\n",
       "      <td>1.000000</td>\n",
       "    </tr>\n",
       "    <tr>\n",
       "      <th>25%</th>\n",
       "      <td>-0.347308</td>\n",
       "      <td>10.000000</td>\n",
       "    </tr>\n",
       "    <tr>\n",
       "      <th>50%</th>\n",
       "      <td>-0.092503</td>\n",
       "      <td>23.000000</td>\n",
       "    </tr>\n",
       "    <tr>\n",
       "      <th>75%</th>\n",
       "      <td>-0.005791</td>\n",
       "      <td>74.000000</td>\n",
       "    </tr>\n",
       "    <tr>\n",
       "      <th>max</th>\n",
       "      <td>0.061220</td>\n",
       "      <td>1177.000000</td>\n",
       "    </tr>\n",
       "  </tbody>\n",
       "</table>\n",
       "</div>"
      ],
      "text/plain": [
       "               R2  Sequence lenght\n",
       "count  800.000000       800.000000\n",
       "mean    -0.307164        79.993750\n",
       "std      0.644805       155.786603\n",
       "min     -7.307491         1.000000\n",
       "25%     -0.347308        10.000000\n",
       "50%     -0.092503        23.000000\n",
       "75%     -0.005791        74.000000\n",
       "max      0.061220      1177.000000"
      ]
     },
     "execution_count": 31,
     "metadata": {},
     "output_type": "execute_result"
    }
   ],
   "source": [
    "r2s = get_r2(*predictions)\n",
    "r2s.describe()"
   ]
  },
  {
   "cell_type": "code",
   "execution_count": 32,
   "metadata": {},
   "outputs": [
    {
     "data": {
      "text/plain": [
       "<seaborn.axisgrid.JointGrid at 0x7fa24fab6490>"
      ]
     },
     "execution_count": 32,
     "metadata": {},
     "output_type": "execute_result"
    },
    {
     "data": {
      "image/png": "[encoded data removed]",
      "text/plain": [
       "<matplotlib.figure.Figure at 0x7fa24c040bd0>"
      ]
     },
     "metadata": {},
     "output_type": "display_data"
    }
   ],
   "source": [
    "seaborn.jointplot(x='R2', y='Sequence lenght', data=r2s)"
   ]
  },
  {
   "cell_type": "code",
   "execution_count": null,
   "metadata": {
    "collapsed": true
   },
   "outputs": [],
   "source": []
  },
  {
   "cell_type": "markdown",
   "metadata": {
    "collapsed": true
   },
   "source": [
    "---"
   ]
  },
  {
   "cell_type": "markdown",
   "metadata": {},
   "source": [
    "losss is cross validation, predictions have sigmoid"
   ]
  },
  {
   "cell_type": "code",
   "execution_count": 33,
   "metadata": {
    "collapsed": true
   },
   "outputs": [],
   "source": [
    "test_prediction_file = '../../results/dkt_lstm/loss2/predictions.p'\n",
    "\n",
    "with open(test_prediction_file, 'r') as prediction_file:\n",
    "    predictions = pickle.load(prediction_file)"
   ]
  },
  {
   "cell_type": "code",
   "execution_count": 34,
   "metadata": {},
   "outputs": [
    {
     "data": {
      "text/plain": [
       "(array([ array([ 1.,  0.,  0.,  0.,  0.,  0.,  0.,  1.,  0.,  1.,  0.,  0.,  0.,\n",
       "         0.,  1.,  1.,  1.,  1.,  0.,  1.,  0.,  1.,  1.,  1.,  0.,  1.,\n",
       "         1.,  1.,  0.,  0.,  0.,  1.,  1.,  1.,  0.,  1.,  1.,  1.,  1.,\n",
       "         0.,  0.,  0.,  0.,  1.,  0.,  1.,  1.,  1.,  1.,  1.,  0.,  1.,\n",
       "         0.,  0.,  0.,  0.,  1.,  0.,  0.,  0.,  0.,  0.,  0.,  0.,  0.,\n",
       "         0.,  0.,  1.,  0.,  1.,  0.,  0.,  0.,  0.,  1.,  0.,  0.,  0.,\n",
       "         0.,  1.,  0.,  0.,  0.,  1.,  1.,  1.,  0.,  1.,  1.,  1.,  1.]),\n",
       "        array([ 1.,  1.])], dtype=object),\n",
       " array([ array([ 0.65948021,  0.658952  ,  0.66328532,  0.6583795 ,  0.65754914,\n",
       "         0.66062027,  0.65927392,  0.65962946,  0.66337007,  0.65763295,\n",
       "         0.65813839,  0.65964282,  0.65920675,  0.66091448,  0.66290063,\n",
       "         0.66287941,  0.66499615,  0.66174209,  0.6600756 ,  0.66350377,\n",
       "         0.66160864,  0.66161591,  0.66184169,  0.66483134,  0.66088331,\n",
       "         0.66369998,  0.66210341,  0.66461754,  0.6619705 ,  0.66247493,\n",
       "         0.65946871,  0.66399205,  0.66070169,  0.66497731,  0.66360742,\n",
       "         0.6627444 ,  0.66295874,  0.66259128,  0.66167206,  0.66328186,\n",
       "         0.66050899,  0.6600796 ,  0.659311  ,  0.65973663,  0.65745628,\n",
       "         0.66041917,  0.66291344,  0.662467  ,  0.66086191,  0.66039521,\n",
       "         0.66104043,  0.65950346,  0.66063476,  0.66379595,  0.66027153,\n",
       "         0.66132516,  0.6611985 ,  0.66329348,  0.65838116,  0.65755075,\n",
       "         0.66062194,  0.65927547,  0.65963101,  0.66030705,  0.65719175,\n",
       "         0.66121042,  0.66208154,  0.65741688,  0.65696156,  0.66477096,\n",
       "         0.66066027,  0.65998852,  0.66005403,  0.6608777 ,  0.66214186,\n",
       "         0.66035038,  0.66292363,  0.66181767,  0.66039169,  0.65999764,\n",
       "         0.65891731,  0.66219229,  0.66234308,  0.66471648,  0.66386932,\n",
       "         0.66479242,  0.66309988,  0.66365457,  0.66403872,  0.66175741,\n",
       "         0.67860478]),\n",
       "        array([ 0.66368639,  0.75583404])], dtype=object))"
      ]
     },
     "execution_count": 34,
     "metadata": {},
     "output_type": "execute_result"
    }
   ],
   "source": [
    "predictions[0][:2], predictions[1][:2]"
   ]
  },
  {
   "cell_type": "code",
   "execution_count": 35,
   "metadata": {},
   "outputs": [
    {
     "data": {
      "text/plain": [
       "0.47329765299716237"
      ]
     },
     "execution_count": 35,
     "metadata": {},
     "output_type": "execute_result"
    }
   ],
   "source": [
    "rmse_results = get_rmse(*predictions)\n",
    "get_mean_rmse(*predictions)"
   ]
  },
  {
   "cell_type": "code",
   "execution_count": 36,
   "metadata": {},
   "outputs": [
    {
     "data": {
      "image/png": "[encoded data removed]",
      "text/plain": [
       "<matplotlib.figure.Figure at 0x7fa24c09ae10>"
      ]
     },
     "metadata": {},
     "output_type": "display_data"
    }
   ],
   "source": [
    "seaborn.distplot(rmse_results.RMSE, kde=False)\n",
    "seaborn.despine(left=True)"
   ]
  },
  {
   "cell_type": "code",
   "execution_count": 37,
   "metadata": {},
   "outputs": [
    {
     "data": {
      "text/html": [
       "<div>\n",
       "<table border=\"1\" class=\"dataframe\">\n",
       "  <thead>\n",
       "    <tr style=\"text-align: right;\">\n",
       "      <th></th>\n",
       "      <th>RMSE</th>\n",
       "      <th>Sequence lenght</th>\n",
       "    </tr>\n",
       "  </thead>\n",
       "  <tbody>\n",
       "    <tr>\n",
       "      <th>count</th>\n",
       "      <td>800.000000</td>\n",
       "      <td>800.000000</td>\n",
       "    </tr>\n",
       "    <tr>\n",
       "      <th>mean</th>\n",
       "      <td>0.452576</td>\n",
       "      <td>75.395000</td>\n",
       "    </tr>\n",
       "    <tr>\n",
       "      <th>std</th>\n",
       "      <td>0.084694</td>\n",
       "      <td>144.050146</td>\n",
       "    </tr>\n",
       "    <tr>\n",
       "      <th>min</th>\n",
       "      <td>0.228016</td>\n",
       "      <td>1.000000</td>\n",
       "    </tr>\n",
       "    <tr>\n",
       "      <th>25%</th>\n",
       "      <td>0.408903</td>\n",
       "      <td>8.000000</td>\n",
       "    </tr>\n",
       "    <tr>\n",
       "      <th>50%</th>\n",
       "      <td>0.453705</td>\n",
       "      <td>22.000000</td>\n",
       "    </tr>\n",
       "    <tr>\n",
       "      <th>75%</th>\n",
       "      <td>0.506877</td>\n",
       "      <td>76.000000</td>\n",
       "    </tr>\n",
       "    <tr>\n",
       "      <th>max</th>\n",
       "      <td>0.650073</td>\n",
       "      <td>1075.000000</td>\n",
       "    </tr>\n",
       "  </tbody>\n",
       "</table>\n",
       "</div>"
      ],
      "text/plain": [
       "             RMSE  Sequence lenght\n",
       "count  800.000000       800.000000\n",
       "mean     0.452576        75.395000\n",
       "std      0.084694       144.050146\n",
       "min      0.228016         1.000000\n",
       "25%      0.408903         8.000000\n",
       "50%      0.453705        22.000000\n",
       "75%      0.506877        76.000000\n",
       "max      0.650073      1075.000000"
      ]
     },
     "execution_count": 37,
     "metadata": {},
     "output_type": "execute_result"
    }
   ],
   "source": [
    "rmse_results.describe()"
   ]
  },
  {
   "cell_type": "code",
   "execution_count": 38,
   "metadata": {},
   "outputs": [
    {
     "data": {
      "text/plain": [
       "0.5216651052628577"
      ]
     },
     "execution_count": 38,
     "metadata": {},
     "output_type": "execute_result"
    }
   ],
   "source": [
    "get_mean_auc_roc_curve(predictions[0], predictions[1])"
   ]
  },
  {
   "cell_type": "code",
   "execution_count": 39,
   "metadata": {},
   "outputs": [
    {
     "name": "stdout",
     "output_type": "stream",
     "text": [
      "108 sequences with only one class, ignoring.\n"
     ]
    }
   ],
   "source": [
    "aucs = get_auc_roc_curve(*predictions)"
   ]
  },
  {
   "cell_type": "code",
   "execution_count": 40,
   "metadata": {},
   "outputs": [
    {
     "data": {
      "text/html": [
       "<div>\n",
       "<table border=\"1\" class=\"dataframe\">\n",
       "  <thead>\n",
       "    <tr style=\"text-align: right;\">\n",
       "      <th></th>\n",
       "      <th>AUC</th>\n",
       "      <th>Sequence lenght</th>\n",
       "    </tr>\n",
       "  </thead>\n",
       "  <tbody>\n",
       "    <tr>\n",
       "      <th>count</th>\n",
       "      <td>692.000000</td>\n",
       "      <td>692.000000</td>\n",
       "    </tr>\n",
       "    <tr>\n",
       "      <th>mean</th>\n",
       "      <td>0.661630</td>\n",
       "      <td>86.556358</td>\n",
       "    </tr>\n",
       "    <tr>\n",
       "      <th>std</th>\n",
       "      <td>0.172840</td>\n",
       "      <td>151.881746</td>\n",
       "    </tr>\n",
       "    <tr>\n",
       "      <th>min</th>\n",
       "      <td>0.033333</td>\n",
       "      <td>2.000000</td>\n",
       "    </tr>\n",
       "    <tr>\n",
       "      <th>25%</th>\n",
       "      <td>0.565444</td>\n",
       "      <td>12.000000</td>\n",
       "    </tr>\n",
       "    <tr>\n",
       "      <th>50%</th>\n",
       "      <td>0.646508</td>\n",
       "      <td>29.500000</td>\n",
       "    </tr>\n",
       "    <tr>\n",
       "      <th>75%</th>\n",
       "      <td>0.750000</td>\n",
       "      <td>91.500000</td>\n",
       "    </tr>\n",
       "    <tr>\n",
       "      <th>max</th>\n",
       "      <td>1.000000</td>\n",
       "      <td>1075.000000</td>\n",
       "    </tr>\n",
       "  </tbody>\n",
       "</table>\n",
       "</div>"
      ],
      "text/plain": [
       "              AUC  Sequence lenght\n",
       "count  692.000000       692.000000\n",
       "mean     0.661630        86.556358\n",
       "std      0.172840       151.881746\n",
       "min      0.033333         2.000000\n",
       "25%      0.565444        12.000000\n",
       "50%      0.646508        29.500000\n",
       "75%      0.750000        91.500000\n",
       "max      1.000000      1075.000000"
      ]
     },
     "execution_count": 40,
     "metadata": {},
     "output_type": "execute_result"
    }
   ],
   "source": [
    "aucs.describe()"
   ]
  },
  {
   "cell_type": "code",
   "execution_count": 44,
   "metadata": {},
   "outputs": [
    {
     "data": {
      "image/png": "[encoded data removed]",
      "text/plain": [
       "<matplotlib.figure.Figure at 0x7fa24bb84410>"
      ]
     },
     "metadata": {},
     "output_type": "display_data"
    }
   ],
   "source": [
    "seaborn.jointplot(x='RMSE', y='Sequence lenght', data=rmse_results)\n",
    "seaborn.despine(left=True)"
   ]
  },
  {
   "cell_type": "markdown",
   "metadata": {},
   "source": [
    "#### R2 results"
   ]
  },
  {
   "cell_type": "code",
   "execution_count": 41,
   "metadata": {},
   "outputs": [
    {
     "data": {
      "text/plain": [
       "0.0015829217767041603"
      ]
     },
     "execution_count": 41,
     "metadata": {},
     "output_type": "execute_result"
    }
   ],
   "source": [
    "get_mean_r2(*predictions)"
   ]
  },
  {
   "cell_type": "code",
   "execution_count": 42,
   "metadata": {},
   "outputs": [
    {
     "data": {
      "text/html": [
       "<div>\n",
       "<table border=\"1\" class=\"dataframe\">\n",
       "  <thead>\n",
       "    <tr style=\"text-align: right;\">\n",
       "      <th></th>\n",
       "      <th>R2</th>\n",
       "      <th>Sequence lenght</th>\n",
       "    </tr>\n",
       "  </thead>\n",
       "  <tbody>\n",
       "    <tr>\n",
       "      <th>count</th>\n",
       "      <td>800.000000</td>\n",
       "      <td>800.000000</td>\n",
       "    </tr>\n",
       "    <tr>\n",
       "      <th>mean</th>\n",
       "      <td>-0.316715</td>\n",
       "      <td>75.395000</td>\n",
       "    </tr>\n",
       "    <tr>\n",
       "      <th>std</th>\n",
       "      <td>1.250532</td>\n",
       "      <td>144.050146</td>\n",
       "    </tr>\n",
       "    <tr>\n",
       "      <th>min</th>\n",
       "      <td>-27.880273</td>\n",
       "      <td>1.000000</td>\n",
       "    </tr>\n",
       "    <tr>\n",
       "      <th>25%</th>\n",
       "      <td>-0.246810</td>\n",
       "      <td>8.000000</td>\n",
       "    </tr>\n",
       "    <tr>\n",
       "      <th>50%</th>\n",
       "      <td>-0.054099</td>\n",
       "      <td>22.000000</td>\n",
       "    </tr>\n",
       "    <tr>\n",
       "      <th>75%</th>\n",
       "      <td>0.000000</td>\n",
       "      <td>76.000000</td>\n",
       "    </tr>\n",
       "    <tr>\n",
       "      <th>max</th>\n",
       "      <td>0.122077</td>\n",
       "      <td>1075.000000</td>\n",
       "    </tr>\n",
       "  </tbody>\n",
       "</table>\n",
       "</div>"
      ],
      "text/plain": [
       "               R2  Sequence lenght\n",
       "count  800.000000       800.000000\n",
       "mean    -0.316715        75.395000\n",
       "std      1.250532       144.050146\n",
       "min    -27.880273         1.000000\n",
       "25%     -0.246810         8.000000\n",
       "50%     -0.054099        22.000000\n",
       "75%      0.000000        76.000000\n",
       "max      0.122077      1075.000000"
      ]
     },
     "execution_count": 42,
     "metadata": {},
     "output_type": "execute_result"
    }
   ],
   "source": [
    "r2s = get_r2(*predictions)\n",
    "r2s.describe()"
   ]
  },
  {
   "cell_type": "code",
   "execution_count": 43,
   "metadata": {},
   "outputs": [
    {
     "data": {
      "text/plain": [
       "<seaborn.axisgrid.JointGrid at 0x7fa24c296990>"
      ]
     },
     "execution_count": 43,
     "metadata": {},
     "output_type": "execute_result"
    },
    {
     "data": {
      "image/png": "[encoded data removed]",
      "text/plain": [
       "<matplotlib.figure.Figure at 0x7fa24c2a4b50>"
      ]
     },
     "metadata": {},
     "output_type": "display_data"
    }
   ],
   "source": [
    "seaborn.jointplot(x='R2', y='Sequence lenght', data=r2s)"
   ]
  },
  {
   "cell_type": "code",
   "execution_count": null,
   "metadata": {
    "collapsed": true
   },
   "outputs": [],
   "source": []
  }
 ],
 "metadata": {
  "anaconda-cloud": {},
  "kernelspec": {
   "display_name": "Python [default]",
   "language": "python",
   "name": "python2"
  },
  "language_info": {
   "codemirror_mode": {
    "name": "ipython",
    "version": 2
   },
   "file_extension": ".py",
   "mimetype": "text/x-python",
   "name": "python",
   "nbconvert_exporter": "python",
   "pygments_lexer": "ipython2",
   "version": "2.7.13"
  }
 },
 "nbformat": 4,
 "nbformat_minor": 2
}
