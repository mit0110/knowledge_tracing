{
 "cells": [
  {
   "cell_type": "markdown",
   "metadata": {},
   "source": [
    "# Results for experiments with Co-embeddings"
   ]
  },
  {
   "cell_type": "code",
   "execution_count": 1,
   "metadata": {
    "collapsed": true
   },
   "outputs": [],
   "source": [
    "%matplotlib inline\n",
    "import numpy\n",
    "import pandas\n",
    "import pickle\n",
    "import os\n",
    "import re\n",
    "\n",
    "from sklearn import metrics"
   ]
  },
  {
   "cell_type": "code",
   "execution_count": 2,
   "metadata": {
    "collapsed": true
   },
   "outputs": [],
   "source": [
    "import seaborn\n",
    "seaborn.set_style('white')"
   ]
  },
  {
   "cell_type": "code",
   "execution_count": 9,
   "metadata": {
    "collapsed": true
   },
   "outputs": [],
   "source": [
    "def get_runs(dirname):\n",
    "    return [run_prediction for run_prediction in os.listdir(dirname)\n",
    "            if os.path.isfile(os.path.join(dirname, run_prediction)) and 'prediction' in run_prediction]\n",
    "\n",
    "def get_learning(dirname):\n",
    "    return [run_prediction for run_prediction in os.listdir(dirname)\n",
    "            if os.path.isfile(os.path.join(dirname, run_prediction)) and 'performance' in run_prediction]"
   ]
  },
  {
   "cell_type": "code",
   "execution_count": 4,
   "metadata": {
    "collapsed": true
   },
   "outputs": [],
   "source": [
    "def base_metrics_df():\n",
    "    return pandas.DataFrame(columns=['Experiment', 'Run',\n",
    "                                     'AUC-mean', 'RMSE-mean', 'APS-mean', 'Accuracy-mean', 'R2-mean',\n",
    "                                     'AUC-std', 'RMSE-std', 'APS-std', 'Accuracy-std', 'R2-std'])"
   ]
  },
  {
   "cell_type": "code",
   "execution_count": 5,
   "metadata": {
    "collapsed": true
   },
   "outputs": [],
   "source": [
    "def read_file_metrics(filename):\n",
    "    \"\"\"Returns a DataFrame with values Sequence length, AUC, RMSE, APS, Accuracy, R2 Score\"\"\"\n",
    "    results = []\n",
    "    ignored_sequences = 0\n",
    "    with open(filename, 'rb') as prediction_file:\n",
    "        true, predicted = pickle.load(prediction_file)\n",
    "    for true_sequence, predicted_sequence in zip(true, predicted):\n",
    "        results.append([true_sequence.shape[0]])\n",
    "        try:\n",
    "            results[-1].append(metrics.roc_auc_score(true_sequence, predicted_sequence))\n",
    "        except ValueError:\n",
    "            ignored_sequences += 1\n",
    "            results[-1].append(numpy.nan)\n",
    "        results[-1].append(metrics.mean_squared_error(true_sequence, predicted_sequence)**0.5)\n",
    "        results[-1].append(metrics.average_precision_score(true_sequence, predicted_sequence))\n",
    "        results[-1].append(metrics.accuracy_score(true_sequence, numpy.where(predicted_sequence > 0.5, 1, 0)))\n",
    "        results[-1].append(metrics.r2_score(true_sequence, predicted_sequence))\n",
    "        \n",
    "    print('{} sequences with only one class, ignoring.'.format(ignored_sequences))\n",
    "    return pandas.DataFrame(results, columns=['Sequence lenght', 'AUC', 'RMSE', 'APS', 'Accuracy', 'R2'])"
   ]
  },
  {
   "cell_type": "code",
   "execution_count": 6,
   "metadata": {
    "collapsed": true
   },
   "outputs": [],
   "source": [
    "def read_averaged_metrics(filename, metrics_df, columns=['AUC', 'RMSE', 'APS', 'Accuracy', 'R2']):\n",
    "    \"\"\"Generates a single dataset with the mean and std by sequence of metrics dataframes.\"\"\"\n",
    "    results = {}\n",
    "    file_metrics = read_file_metrics(filename)\n",
    "    results['Experiment'] = os.path.basename(os.path.dirname(filename)[-20:])\n",
    "    results['Run'] = re.search('.*run(\\d+).*', filename).group(1)\n",
    "    for column in columns:\n",
    "        results[column + '-mean'] = file_metrics[column].mean()\n",
    "        results[column + '-std'] = file_metrics[column].std()\n",
    "    metrics_df.loc[metrics_df.shape[0]] = results\n",
    "    return metrics_df"
   ]
  },
  {
   "cell_type": "code",
   "execution_count": 7,
   "metadata": {
    "collapsed": true
   },
   "outputs": [],
   "source": [
    "def raw_metrics(dirnames):\n",
    "    metrics_dfs = []\n",
    "    for dirname in dirnames:\n",
    "        for filename in get_runs(dirname):\n",
    "            file_metrics = read_file_metrics(os.path.join(dirname, filename))\n",
    "            file_metrics['Experiment'] = dirname[-16:]\n",
    "            file_metrics['Run'] = re.search('.*run(\\d+).*', filename).group(1)\n",
    "            metrics_dfs.append(file_metrics)\n",
    "    return pandas.concat(metrics_dfs, ignore_index=True)"
   ]
  },
  {
   "cell_type": "code",
   "execution_count": 8,
   "metadata": {
    "collapsed": true
   },
   "outputs": [],
   "source": [
    "def averaged_metrics(dirnames):\n",
    "    metrics_df = base_metrics_df()\n",
    "    for dirname in dirnames:\n",
    "        for filename in get_runs(dirname):\n",
    "            metrics_df = read_averaged_metrics(os.path.join(dirname, filename), metrics_df)\n",
    "    return metrics_df"
   ]
  },
  {
   "cell_type": "code",
   "execution_count": 18,
   "metadata": {
    "collapsed": true
   },
   "outputs": [],
   "source": [
    "EXPERIMENTS_DIRS = [\n",
    "    '/home/mteruel/edm/results/dkt_lstm/coembeddings/predictions/17-12-18-10-34/',\n",
    "    '/home/mteruel/edm/results/dkt_lstm/coembeddings/predictions/17-12-18-14-27/',\n",
    "    '/home/mteruel/edm/results/dkt_lstm/coembeddings/predictions/17-12-18-22-49/',\n",
    "]"
   ]
  },
  {
   "cell_type": "markdown",
   "metadata": {},
   "source": [
    "## Learning curves"
   ]
  },
  {
   "cell_type": "code",
   "execution_count": 70,
   "metadata": {},
   "outputs": [],
   "source": [
    "def read_performances(dirnames):\n",
    "    results = {}\n",
    "    for dirname in reversed(dirnames):\n",
    "        dataframes = []\n",
    "        for filename in get_learning(dirname):\n",
    "            with open(os.path.join(dirname, filename), 'rb') as performance_file:\n",
    "                train, validation = pickle.load(performance_file)\n",
    "            train = pandas.DataFrame(train, columns=['epoch', 'mse'])\n",
    "            validation = pandas.DataFrame(validation, columns=['epoch', 'mse'])\n",
    "            train['Dataset'] = 'train'\n",
    "            train['Run'] = re.search('.*run(\\d+).*', filename).group(1)\n",
    "            validation['Dataset'] = 'validation'\n",
    "            validation['Run'] = re.search('.*run(\\d+).*', filename).group(1)\n",
    "            dataframes.append(pandas.concat([train, validation]))\n",
    "        if len(dataframes) > 0:\n",
    "            results[dirname] = pandas.concat(dataframes) # train.join(validation, lsuffix='_t', rsuffix='_v')\n",
    "    return results\n",
    "\n",
    "def graphic_performances(train_performances):\n",
    "    for dirname, performance_dataframe in train_performances.items():\n",
    "        print(dirname)\n",
    "        grid = seaborn.FacetGrid(data=performance_dataframe,\n",
    "                                 col='Run', despine=True, ylim=[0, 0.3], aspect=1.5, col_wrap=2,\n",
    "                                 palette='colorblind')\n",
    "        grid.map(seaborn.pointplot, 'epoch', 'mse', 'Dataset').add_legend()"
   ]
  },
  {
   "cell_type": "code",
   "execution_count": 62,
   "metadata": {},
   "outputs": [],
   "source": [
    "performances = read_performances(EXPERIMENTS_DIRS)"
   ]
  },
  {
   "cell_type": "code",
   "execution_count": 71,
   "metadata": {},
   "outputs": [
    {
     "name": "stdout",
     "output_type": "stream",
     "text": [
      "/home/mteruel/edm/results/dkt_lstm/coembeddings/predictions/17-12-18-22-49/\n"
     ]
    },
    {
     "data": {
      "image/png": "[encoded data removed]",
      "text/plain": [
       "<matplotlib.figure.Figure at 0x7ffaa4ab4cf8>"
      ]
     },
     "metadata": {},
     "output_type": "display_data"
    }
   ],
   "source": [
    "graphic_performances(performances)"
   ]
  },
  {
   "cell_type": "markdown",
   "metadata": {},
   "source": [
    "## Performance Metrics not averaged by sequence"
   ]
  },
  {
   "cell_type": "code",
   "execution_count": 72,
   "metadata": {},
   "outputs": [
    {
     "name": "stdout",
     "output_type": "stream",
     "text": [
      "126 sequences with only one class, ignoring.\n",
      "107 sequences with only one class, ignoring.\n",
      "115 sequences with only one class, ignoring.\n",
      "109 sequences with only one class, ignoring.\n",
      "115 sequences with only one class, ignoring.\n",
      "96 sequences with only one class, ignoring.\n",
      "111 sequences with only one class, ignoring.\n"
     ]
    }
   ],
   "source": [
    "raw_results = raw_metrics(EXPERIMENTS_DIRS)"
   ]
  },
  {
   "cell_type": "code",
   "execution_count": 73,
   "metadata": {},
   "outputs": [
    {
     "data": {
      "text/html": [
       "<div>\n",
       "<style>\n",
       "    .dataframe thead tr:only-child th {\n",
       "        text-align: right;\n",
       "    }\n",
       "\n",
       "    .dataframe thead th {\n",
       "        text-align: left;\n",
       "    }\n",
       "\n",
       "    .dataframe tbody tr th {\n",
       "        vertical-align: top;\n",
       "    }\n",
       "</style>\n",
       "<table border=\"1\" class=\"dataframe\">\n",
       "  <thead>\n",
       "    <tr>\n",
       "      <th></th>\n",
       "      <th></th>\n",
       "      <th colspan=\"2\" halign=\"left\">Sequence lenght</th>\n",
       "      <th colspan=\"2\" halign=\"left\">AUC</th>\n",
       "      <th colspan=\"2\" halign=\"left\">RMSE</th>\n",
       "      <th colspan=\"2\" halign=\"left\">APS</th>\n",
       "      <th colspan=\"2\" halign=\"left\">Accuracy</th>\n",
       "      <th colspan=\"2\" halign=\"left\">R2</th>\n",
       "    </tr>\n",
       "    <tr>\n",
       "      <th></th>\n",
       "      <th></th>\n",
       "      <th>mean</th>\n",
       "      <th>std</th>\n",
       "      <th>mean</th>\n",
       "      <th>std</th>\n",
       "      <th>mean</th>\n",
       "      <th>std</th>\n",
       "      <th>mean</th>\n",
       "      <th>std</th>\n",
       "      <th>mean</th>\n",
       "      <th>std</th>\n",
       "      <th>mean</th>\n",
       "      <th>std</th>\n",
       "    </tr>\n",
       "    <tr>\n",
       "      <th>Experiment</th>\n",
       "      <th>Run</th>\n",
       "      <th></th>\n",
       "      <th></th>\n",
       "      <th></th>\n",
       "      <th></th>\n",
       "      <th></th>\n",
       "      <th></th>\n",
       "      <th></th>\n",
       "      <th></th>\n",
       "      <th></th>\n",
       "      <th></th>\n",
       "      <th></th>\n",
       "      <th></th>\n",
       "    </tr>\n",
       "  </thead>\n",
       "  <tbody>\n",
       "    <tr>\n",
       "      <th rowspan=\"3\" valign=\"top\">/17-12-18-10-34/</th>\n",
       "      <th>0</th>\n",
       "      <td>78.37000</td>\n",
       "      <td>149.590465</td>\n",
       "      <td>0.674602</td>\n",
       "      <td>0.164167</td>\n",
       "      <td>0.471824</td>\n",
       "      <td>0.174517</td>\n",
       "      <td>0.833619</td>\n",
       "      <td>0.149883</td>\n",
       "      <td>0.700027</td>\n",
       "      <td>0.153134</td>\n",
       "      <td>-0.468013</td>\n",
       "      <td>0.776245</td>\n",
       "    </tr>\n",
       "    <tr>\n",
       "      <th>1</th>\n",
       "      <td>78.38625</td>\n",
       "      <td>162.313113</td>\n",
       "      <td>0.680171</td>\n",
       "      <td>0.170252</td>\n",
       "      <td>0.469313</td>\n",
       "      <td>0.173203</td>\n",
       "      <td>0.837580</td>\n",
       "      <td>0.146447</td>\n",
       "      <td>0.700915</td>\n",
       "      <td>0.153069</td>\n",
       "      <td>-0.502416</td>\n",
       "      <td>0.991415</td>\n",
       "    </tr>\n",
       "    <tr>\n",
       "      <th>2</th>\n",
       "      <td>81.13875</td>\n",
       "      <td>164.053738</td>\n",
       "      <td>0.696349</td>\n",
       "      <td>0.150736</td>\n",
       "      <td>0.468054</td>\n",
       "      <td>0.172294</td>\n",
       "      <td>0.838499</td>\n",
       "      <td>0.145092</td>\n",
       "      <td>0.702198</td>\n",
       "      <td>0.147879</td>\n",
       "      <td>-0.393681</td>\n",
       "      <td>0.646501</td>\n",
       "    </tr>\n",
       "    <tr>\n",
       "      <th rowspan=\"2\" valign=\"top\">/17-12-18-14-27/</th>\n",
       "      <th>0</th>\n",
       "      <td>73.54000</td>\n",
       "      <td>150.403657</td>\n",
       "      <td>0.691354</td>\n",
       "      <td>0.169238</td>\n",
       "      <td>0.423270</td>\n",
       "      <td>0.141857</td>\n",
       "      <td>0.846865</td>\n",
       "      <td>0.141434</td>\n",
       "      <td>0.712282</td>\n",
       "      <td>0.153858</td>\n",
       "      <td>-0.225474</td>\n",
       "      <td>0.738529</td>\n",
       "    </tr>\n",
       "    <tr>\n",
       "      <th>1</th>\n",
       "      <td>73.33125</td>\n",
       "      <td>147.465204</td>\n",
       "      <td>0.703371</td>\n",
       "      <td>0.164231</td>\n",
       "      <td>0.426447</td>\n",
       "      <td>0.140355</td>\n",
       "      <td>0.843563</td>\n",
       "      <td>0.148876</td>\n",
       "      <td>0.708705</td>\n",
       "      <td>0.155382</td>\n",
       "      <td>-0.262594</td>\n",
       "      <td>0.958991</td>\n",
       "    </tr>\n",
       "    <tr>\n",
       "      <th rowspan=\"2\" valign=\"top\">/17-12-18-22-49/</th>\n",
       "      <th>0</th>\n",
       "      <td>63.69875</td>\n",
       "      <td>131.645722</td>\n",
       "      <td>0.700750</td>\n",
       "      <td>0.181902</td>\n",
       "      <td>0.419723</td>\n",
       "      <td>0.137192</td>\n",
       "      <td>0.855071</td>\n",
       "      <td>0.136466</td>\n",
       "      <td>0.716815</td>\n",
       "      <td>0.162803</td>\n",
       "      <td>-0.212858</td>\n",
       "      <td>0.790940</td>\n",
       "    </tr>\n",
       "    <tr>\n",
       "      <th>1</th>\n",
       "      <td>84.75625</td>\n",
       "      <td>164.116657</td>\n",
       "      <td>0.695746</td>\n",
       "      <td>0.163973</td>\n",
       "      <td>0.417762</td>\n",
       "      <td>0.125550</td>\n",
       "      <td>0.841723</td>\n",
       "      <td>0.139541</td>\n",
       "      <td>0.716019</td>\n",
       "      <td>0.149547</td>\n",
       "      <td>-0.169123</td>\n",
       "      <td>0.628875</td>\n",
       "    </tr>\n",
       "  </tbody>\n",
       "</table>\n",
       "</div>"
      ],
      "text/plain": [
       "                     Sequence lenght                   AUC            \\\n",
       "                                mean         std      mean       std   \n",
       "Experiment       Run                                                   \n",
       "/17-12-18-10-34/ 0          78.37000  149.590465  0.674602  0.164167   \n",
       "                 1          78.38625  162.313113  0.680171  0.170252   \n",
       "                 2          81.13875  164.053738  0.696349  0.150736   \n",
       "/17-12-18-14-27/ 0          73.54000  150.403657  0.691354  0.169238   \n",
       "                 1          73.33125  147.465204  0.703371  0.164231   \n",
       "/17-12-18-22-49/ 0          63.69875  131.645722  0.700750  0.181902   \n",
       "                 1          84.75625  164.116657  0.695746  0.163973   \n",
       "\n",
       "                          RMSE                 APS            Accuracy  \\\n",
       "                          mean       std      mean       std      mean   \n",
       "Experiment       Run                                                     \n",
       "/17-12-18-10-34/ 0    0.471824  0.174517  0.833619  0.149883  0.700027   \n",
       "                 1    0.469313  0.173203  0.837580  0.146447  0.700915   \n",
       "                 2    0.468054  0.172294  0.838499  0.145092  0.702198   \n",
       "/17-12-18-14-27/ 0    0.423270  0.141857  0.846865  0.141434  0.712282   \n",
       "                 1    0.426447  0.140355  0.843563  0.148876  0.708705   \n",
       "/17-12-18-22-49/ 0    0.419723  0.137192  0.855071  0.136466  0.716815   \n",
       "                 1    0.417762  0.125550  0.841723  0.139541  0.716019   \n",
       "\n",
       "                                      R2            \n",
       "                           std      mean       std  \n",
       "Experiment       Run                                \n",
       "/17-12-18-10-34/ 0    0.153134 -0.468013  0.776245  \n",
       "                 1    0.153069 -0.502416  0.991415  \n",
       "                 2    0.147879 -0.393681  0.646501  \n",
       "/17-12-18-14-27/ 0    0.153858 -0.225474  0.738529  \n",
       "                 1    0.155382 -0.262594  0.958991  \n",
       "/17-12-18-22-49/ 0    0.162803 -0.212858  0.790940  \n",
       "                 1    0.149547 -0.169123  0.628875  "
      ]
     },
     "execution_count": 73,
     "metadata": {},
     "output_type": "execute_result"
    }
   ],
   "source": [
    "raw_results.groupby(['Experiment', 'Run']).agg(['mean', 'std'])"
   ]
  },
  {
   "cell_type": "code",
   "execution_count": 74,
   "metadata": {},
   "outputs": [
    {
     "data": {
      "text/plain": [
       "<seaborn.axisgrid.FacetGrid at 0x7ffaa4a877f0>"
      ]
     },
     "execution_count": 74,
     "metadata": {},
     "output_type": "execute_result"
    },
    {
     "data": {
      "image/png": "[encoded data removed]",
      "text/plain": [
       "<matplotlib.figure.Figure at 0x7ffaa4a87320>"
      ]
     },
     "metadata": {},
     "output_type": "display_data"
    }
   ],
   "source": [
    "grid = seaborn.FacetGrid(data=raw_results, col='Experiment')\n",
    "grid.map(seaborn.pointplot, 'Run', 'AUC', join=False)"
   ]
  },
  {
   "cell_type": "code",
   "execution_count": 75,
   "metadata": {
    "scrolled": true
   },
   "outputs": [
    {
     "data": {
      "text/plain": [
       "<seaborn.axisgrid.FacetGrid at 0x7ffaa6ede240>"
      ]
     },
     "execution_count": 75,
     "metadata": {},
     "output_type": "execute_result"
    },
    {
     "data": {
      "image/png": "[encoded data removed]",
      "text/plain": [
       "<matplotlib.figure.Figure at 0x7ffaa6e5e6d8>"
      ]
     },
     "metadata": {},
     "output_type": "display_data"
    }
   ],
   "source": [
    "grid = seaborn.FacetGrid(data=raw_results, col='Experiment')\n",
    "grid.map(seaborn.pointplot, 'Run', 'Accuracy', join=False)"
   ]
  },
  {
   "cell_type": "markdown",
   "metadata": {},
   "source": [
    "## Performance Metrics averaged by sequence"
   ]
  },
  {
   "cell_type": "code",
   "execution_count": 76,
   "metadata": {},
   "outputs": [
    {
     "name": "stdout",
     "output_type": "stream",
     "text": [
      "126 sequences with only one class, ignoring.\n",
      "107 sequences with only one class, ignoring.\n",
      "115 sequences with only one class, ignoring.\n",
      "109 sequences with only one class, ignoring.\n",
      "115 sequences with only one class, ignoring.\n",
      "96 sequences with only one class, ignoring.\n",
      "111 sequences with only one class, ignoring.\n"
     ]
    }
   ],
   "source": [
    "averaged_results = averaged_metrics(EXPERIMENTS_DIRS)"
   ]
  },
  {
   "cell_type": "code",
   "execution_count": 77,
   "metadata": {},
   "outputs": [
    {
     "data": {
      "image/png": "[encoded data removed]",
      "text/plain": [
       "<matplotlib.figure.Figure at 0x7ffaa4952a20>"
      ]
     },
     "metadata": {},
     "output_type": "display_data"
    }
   ],
   "source": [
    "seaborn.pointplot(data=averaged_results, x='Experiment', y='Accuracy-mean', join=False)\n",
    "seaborn.despine(left=True)"
   ]
  },
  {
   "cell_type": "code",
   "execution_count": 78,
   "metadata": {},
   "outputs": [
    {
     "data": {
      "text/html": [
       "<div>\n",
       "<style>\n",
       "    .dataframe thead tr:only-child th {\n",
       "        text-align: right;\n",
       "    }\n",
       "\n",
       "    .dataframe thead th {\n",
       "        text-align: left;\n",
       "    }\n",
       "\n",
       "    .dataframe tbody tr th {\n",
       "        vertical-align: top;\n",
       "    }\n",
       "</style>\n",
       "<table border=\"1\" class=\"dataframe\">\n",
       "  <thead>\n",
       "    <tr style=\"text-align: right;\">\n",
       "      <th></th>\n",
       "      <th>AUC-mean</th>\n",
       "      <th>RMSE-mean</th>\n",
       "      <th>APS-mean</th>\n",
       "      <th>Accuracy-mean</th>\n",
       "      <th>R2-mean</th>\n",
       "      <th>AUC-std</th>\n",
       "      <th>RMSE-std</th>\n",
       "      <th>APS-std</th>\n",
       "      <th>Accuracy-std</th>\n",
       "      <th>R2-std</th>\n",
       "    </tr>\n",
       "    <tr>\n",
       "      <th>Experiment</th>\n",
       "      <th></th>\n",
       "      <th></th>\n",
       "      <th></th>\n",
       "      <th></th>\n",
       "      <th></th>\n",
       "      <th></th>\n",
       "      <th></th>\n",
       "      <th></th>\n",
       "      <th></th>\n",
       "      <th></th>\n",
       "    </tr>\n",
       "  </thead>\n",
       "  <tbody>\n",
       "    <tr>\n",
       "      <th>17-12-18-10-34</th>\n",
       "      <td>0.683707</td>\n",
       "      <td>0.469731</td>\n",
       "      <td>0.836566</td>\n",
       "      <td>0.701047</td>\n",
       "      <td>-0.454703</td>\n",
       "      <td>0.161718</td>\n",
       "      <td>0.173338</td>\n",
       "      <td>0.147141</td>\n",
       "      <td>0.151361</td>\n",
       "      <td>0.804720</td>\n",
       "    </tr>\n",
       "    <tr>\n",
       "      <th>17-12-18-14-27</th>\n",
       "      <td>0.697363</td>\n",
       "      <td>0.424859</td>\n",
       "      <td>0.845214</td>\n",
       "      <td>0.710493</td>\n",
       "      <td>-0.244034</td>\n",
       "      <td>0.166734</td>\n",
       "      <td>0.141106</td>\n",
       "      <td>0.145155</td>\n",
       "      <td>0.154620</td>\n",
       "      <td>0.848760</td>\n",
       "    </tr>\n",
       "    <tr>\n",
       "      <th>17-12-18-22-49</th>\n",
       "      <td>0.698248</td>\n",
       "      <td>0.418742</td>\n",
       "      <td>0.848397</td>\n",
       "      <td>0.716417</td>\n",
       "      <td>-0.190990</td>\n",
       "      <td>0.172937</td>\n",
       "      <td>0.131371</td>\n",
       "      <td>0.138003</td>\n",
       "      <td>0.156175</td>\n",
       "      <td>0.709907</td>\n",
       "    </tr>\n",
       "  </tbody>\n",
       "</table>\n",
       "</div>"
      ],
      "text/plain": [
       "                AUC-mean  RMSE-mean  APS-mean  Accuracy-mean   R2-mean  \\\n",
       "Experiment                                                               \n",
       "17-12-18-10-34  0.683707   0.469731  0.836566       0.701047 -0.454703   \n",
       "17-12-18-14-27  0.697363   0.424859  0.845214       0.710493 -0.244034   \n",
       "17-12-18-22-49  0.698248   0.418742  0.848397       0.716417 -0.190990   \n",
       "\n",
       "                 AUC-std  RMSE-std   APS-std  Accuracy-std    R2-std  \n",
       "Experiment                                                            \n",
       "17-12-18-10-34  0.161718  0.173338  0.147141      0.151361  0.804720  \n",
       "17-12-18-14-27  0.166734  0.141106  0.145155      0.154620  0.848760  \n",
       "17-12-18-22-49  0.172937  0.131371  0.138003      0.156175  0.709907  "
      ]
     },
     "execution_count": 78,
     "metadata": {},
     "output_type": "execute_result"
    }
   ],
   "source": [
    "lala = averaged_results.groupby('Experiment')\n",
    "lala.aggregate('mean')"
   ]
  },
  {
   "cell_type": "code",
   "execution_count": null,
   "metadata": {
    "collapsed": true
   },
   "outputs": [],
   "source": []
  }
 ],
 "metadata": {
  "anaconda-cloud": {},
  "kernelspec": {
   "display_name": "Python [conda env:env_edm2]",
   "language": "python",
   "name": "conda-env-env_edm2-py"
  },
  "language_info": {
   "codemirror_mode": {
    "name": "ipython",
    "version": 3
   },
   "file_extension": ".py",
   "mimetype": "text/x-python",
   "name": "python",
   "nbconvert_exporter": "python",
   "pygments_lexer": "ipython3",
   "version": "3.5.4"
  }
 },
 "nbformat": 4,
 "nbformat_minor": 2
}
