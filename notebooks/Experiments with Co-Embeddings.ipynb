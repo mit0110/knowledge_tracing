{
 "cells": [
  {
   "cell_type": "markdown",
   "metadata": {},
   "source": [
    "# Results for experiments with Co-embeddings"
   ]
  },
  {
   "cell_type": "code",
   "execution_count": 1,
   "metadata": {
    "collapsed": true
   },
   "outputs": [],
   "source": [
    "%matplotlib inline\n",
    "import numpy\n",
    "import pandas\n",
    "import pickle\n",
    "import os\n",
    "import re\n",
    "\n",
    "from sklearn import metrics"
   ]
  },
  {
   "cell_type": "code",
   "execution_count": 2,
   "metadata": {
    "collapsed": true
   },
   "outputs": [],
   "source": [
    "import seaborn\n",
    "seaborn.set_style('white')"
   ]
  },
  {
   "cell_type": "code",
   "execution_count": 3,
   "metadata": {
    "collapsed": true
   },
   "outputs": [],
   "source": [
    "EXPERIMENTS_DIRS = [\n",
    "    '/home/mteruel/edm/results/dkt_lstm/coembeddings/predictions/test1',\n",
    "    '/home/mteruel/edm/results/dkt_lstm/coembeddings/predictions/test2',\n",
    "    '/home/mteruel/edm/results/dkt_lstm/coembeddings/predictions/test3',\n",
    "]"
   ]
  },
  {
   "cell_type": "code",
   "execution_count": 4,
   "metadata": {
    "collapsed": true
   },
   "outputs": [],
   "source": [
    "def get_runs(dirname):\n",
    "    return [run_prediction for run_prediction in os.listdir(dirname)\n",
    "            if os.path.isfile(os.path.join(dirname, run_prediction)) and 'prediction' in run_prediction]"
   ]
  },
  {
   "cell_type": "code",
   "execution_count": 5,
   "metadata": {
    "collapsed": true
   },
   "outputs": [],
   "source": [
    "def base_metrics_df():\n",
    "    return pandas.DataFrame(columns=['Experiment', 'Run',\n",
    "                                     'AUC-mean', 'RMSE-mean', 'APS-mean', 'Accuracy-mean', 'R2-mean',\n",
    "                                     'AUC-std', 'RMSE-std', 'APS-std', 'Accuracy-std', 'R2-std'])"
   ]
  },
  {
   "cell_type": "code",
   "execution_count": 6,
   "metadata": {
    "collapsed": true
   },
   "outputs": [],
   "source": [
    "def read_file_metrics(filename):\n",
    "    \"\"\"Returns a DataFrame with values Sequence length, AUC, RMSE, APS, Accuracy, R2 Score\"\"\"\n",
    "    results = []\n",
    "    ignored_sequences = 0\n",
    "    with open(filename, 'r') as prediction_file:\n",
    "        true, predicted = pickle.load(prediction_file)\n",
    "    for true_sequence, predicted_sequence in zip(true, predicted):\n",
    "        results.append([true_sequence.shape[0]])\n",
    "        try:\n",
    "            results[-1].append(metrics.roc_auc_score(true_sequence, predicted_sequence))\n",
    "        except ValueError:\n",
    "            ignored_sequences += 1\n",
    "            results[-1].append(numpy.nan)\n",
    "        results[-1].append(metrics.mean_squared_error(true_sequence, predicted_sequence)**0.5)\n",
    "        results[-1].append(metrics.average_precision_score(true_sequence, predicted_sequence))\n",
    "        results[-1].append(metrics.accuracy_score(true_sequence, numpy.where(predicted_sequence > 0.5, 1, 0)))\n",
    "        results[-1].append(metrics.r2_score(true_sequence, predicted_sequence))\n",
    "        \n",
    "    print '{} sequences with only one class, ignoring.'.format(ignored_sequences)\n",
    "    return pandas.DataFrame(results, columns=['Sequence lenght', 'AUC', 'RMSE', 'APS', 'Accuracy', 'R2'])"
   ]
  },
  {
   "cell_type": "code",
   "execution_count": 7,
   "metadata": {
    "collapsed": true
   },
   "outputs": [],
   "source": [
    "def read_averaged_metrics(filename, metrics_df, columns=['AUC', 'RMSE', 'APS', 'Accuracy', 'R2']):\n",
    "    \"\"\"Generates a single dataset with the mean ans std of metrics dataframes.\"\"\"\n",
    "    results = {}\n",
    "    file_metrics = read_file_metrics(filename)\n",
    "    results['Experiment'] = os.path.basename(os.path.dirname(filename)[-20:])\n",
    "    results['Run'] = re.search('.*run(\\d+).*', filename).group(1)\n",
    "    for column in columns:\n",
    "        results[column + '-mean'] = file_metrics[column].mean()\n",
    "        results[column + '-std'] = file_metrics[column].std()\n",
    "    metrics_df.loc[metrics_df.shape[0]] = results\n",
    "    return metrics_df"
   ]
  },
  {
   "cell_type": "code",
   "execution_count": 8,
   "metadata": {
    "collapsed": true
   },
   "outputs": [],
   "source": [
    "def raw_metrics(dirnames):\n",
    "    metrics_dfs = []\n",
    "    for dirname in dirnames:\n",
    "        for filename in get_runs(dirname):\n",
    "            file_metrics = read_file_metrics(os.path.join(dirname, filename))\n",
    "            file_metrics['Experiment'] = os.path.basename(dirname)[-20:]\n",
    "            file_metrics['Run'] = re.search('.*run(\\d+).*', filename).group(1)\n",
    "            metrics_dfs.append(file_metrics)\n",
    "    return pandas.concat(metrics_dfs, ignore_index=True)"
   ]
  },
  {
   "cell_type": "code",
   "execution_count": 17,
   "metadata": {
    "collapsed": true
   },
   "outputs": [],
   "source": [
    "def averaged_metrics(dirnames):\n",
    "    metrics_df = base_metrics_df()\n",
    "    for dirname in dirnames:\n",
    "        for filename in get_runs(dirname):\n",
    "            metrics_df = read_averaged_metrics(os.path.join(dirname, filename), metrics_df)\n",
    "    return metrics_df"
   ]
  },
  {
   "cell_type": "code",
   "execution_count": 10,
   "metadata": {},
   "outputs": [
    {
     "name": "stdout",
     "output_type": "stream",
     "text": [
      "114 sequences with only one class, ignoring.\n",
      "91 sequences with only one class, ignoring.\n",
      "100 sequences with only one class, ignoring.\n",
      "112 sequences with only one class, ignoring.\n",
      "118 sequences with only one class, ignoring.\n",
      "101 sequences with only one class, ignoring.\n",
      "106 sequences with only one class, ignoring.\n",
      "132 sequences with only one class, ignoring.\n"
     ]
    }
   ],
   "source": [
    "raw_results = raw_metrics(EXPERIMENTS_DIRS)"
   ]
  },
  {
   "cell_type": "code",
   "execution_count": 11,
   "metadata": {},
   "outputs": [
    {
     "data": {
      "text/plain": [
       "<seaborn.axisgrid.FacetGrid at 0x7f79eb460650>"
      ]
     },
     "execution_count": 11,
     "metadata": {},
     "output_type": "execute_result"
    },
    {
     "data": {
      "image/png": "[encoded data removed]",
      "text/plain": [
       "<matplotlib.figure.Figure at 0x7f79eb460610>"
      ]
     },
     "metadata": {},
     "output_type": "display_data"
    }
   ],
   "source": [
    "seaborn.factorplot(data=raw_results, y='AUC', hue='Run', x='Run', join=False, col='Experiment')"
   ]
  },
  {
   "cell_type": "code",
   "execution_count": 12,
   "metadata": {},
   "outputs": [
    {
     "data": {
      "text/plain": [
       "<seaborn.axisgrid.FacetGrid at 0x7f79e8a5b490>"
      ]
     },
     "execution_count": 12,
     "metadata": {},
     "output_type": "execute_result"
    },
    {
     "data": {
      "image/png": "[encoded data removed]",
      "text/plain": [
       "<matplotlib.figure.Figure at 0x7f79e8b46c90>"
      ]
     },
     "metadata": {},
     "output_type": "display_data"
    }
   ],
   "source": [
    "seaborn.factorplot(data=raw_results, y='Accuracy', hue='Run', x='Run', join=False, col='Experiment')"
   ]
  },
  {
   "cell_type": "code",
   "execution_count": 18,
   "metadata": {},
   "outputs": [
    {
     "name": "stdout",
     "output_type": "stream",
     "text": [
      "114 sequences with only one class, ignoring.\n",
      "91 sequences with only one class, ignoring.\n",
      "100 sequences with only one class, ignoring.\n",
      "112 sequences with only one class, ignoring.\n",
      "118 sequences with only one class, ignoring.\n",
      "101 sequences with only one class, ignoring.\n",
      "106 sequences with only one class, ignoring.\n",
      "132 sequences with only one class, ignoring.\n"
     ]
    }
   ],
   "source": [
    "averaged_results = averaged_metrics(EXPERIMENTS_DIRS)"
   ]
  },
  {
   "cell_type": "code",
   "execution_count": 19,
   "metadata": {},
   "outputs": [
    {
     "data": {
      "image/png": "[encoded data removed]",
      "text/plain": [
       "<matplotlib.figure.Figure at 0x7f79e846d990>"
      ]
     },
     "metadata": {},
     "output_type": "display_data"
    }
   ],
   "source": [
    "seaborn.pointplot(data=averaged_results, x='Experiment', y='Accuracy-mean', join=False)\n",
    "seaborn.despine(left=True)"
   ]
  },
  {
   "cell_type": "code",
   "execution_count": 26,
   "metadata": {},
   "outputs": [
    {
     "data": {
      "text/html": [
       "<div>\n",
       "<table border=\"1\" class=\"dataframe\">\n",
       "  <thead>\n",
       "    <tr style=\"text-align: right;\">\n",
       "      <th></th>\n",
       "      <th>AUC-mean</th>\n",
       "      <th>RMSE-mean</th>\n",
       "      <th>APS-mean</th>\n",
       "      <th>Accuracy-mean</th>\n",
       "      <th>R2-mean</th>\n",
       "      <th>AUC-std</th>\n",
       "      <th>RMSE-std</th>\n",
       "      <th>APS-std</th>\n",
       "      <th>Accuracy-std</th>\n",
       "      <th>R2-std</th>\n",
       "    </tr>\n",
       "    <tr>\n",
       "      <th>Experiment</th>\n",
       "      <th></th>\n",
       "      <th></th>\n",
       "      <th></th>\n",
       "      <th></th>\n",
       "      <th></th>\n",
       "      <th></th>\n",
       "      <th></th>\n",
       "      <th></th>\n",
       "      <th></th>\n",
       "      <th></th>\n",
       "    </tr>\n",
       "  </thead>\n",
       "  <tbody>\n",
       "    <tr>\n",
       "      <th>test1</th>\n",
       "      <td>0.685631</td>\n",
       "      <td>0.421425</td>\n",
       "      <td>0.823391</td>\n",
       "      <td>0.706333</td>\n",
       "      <td>-0.230816</td>\n",
       "      <td>0.161666</td>\n",
       "      <td>0.124711</td>\n",
       "      <td>0.173515</td>\n",
       "      <td>0.159272</td>\n",
       "      <td>1.105138</td>\n",
       "    </tr>\n",
       "    <tr>\n",
       "      <th>test2</th>\n",
       "      <td>0.684565</td>\n",
       "      <td>0.428812</td>\n",
       "      <td>0.831963</td>\n",
       "      <td>0.691604</td>\n",
       "      <td>-0.244720</td>\n",
       "      <td>0.169782</td>\n",
       "      <td>0.125334</td>\n",
       "      <td>0.151246</td>\n",
       "      <td>0.161014</td>\n",
       "      <td>0.954841</td>\n",
       "    </tr>\n",
       "    <tr>\n",
       "      <th>test3</th>\n",
       "      <td>0.680405</td>\n",
       "      <td>0.426463</td>\n",
       "      <td>0.828689</td>\n",
       "      <td>0.691031</td>\n",
       "      <td>-0.296345</td>\n",
       "      <td>0.166442</td>\n",
       "      <td>0.134843</td>\n",
       "      <td>0.156940</td>\n",
       "      <td>0.165242</td>\n",
       "      <td>1.200540</td>\n",
       "    </tr>\n",
       "  </tbody>\n",
       "</table>\n",
       "</div>"
      ],
      "text/plain": [
       "            AUC-mean  RMSE-mean  APS-mean  Accuracy-mean   R2-mean   AUC-std  \\\n",
       "Experiment                                                                     \n",
       "test1       0.685631   0.421425  0.823391       0.706333 -0.230816  0.161666   \n",
       "test2       0.684565   0.428812  0.831963       0.691604 -0.244720  0.169782   \n",
       "test3       0.680405   0.426463  0.828689       0.691031 -0.296345  0.166442   \n",
       "\n",
       "            RMSE-std   APS-std  Accuracy-std    R2-std  \n",
       "Experiment                                              \n",
       "test1       0.124711  0.173515      0.159272  1.105138  \n",
       "test2       0.125334  0.151246      0.161014  0.954841  \n",
       "test3       0.134843  0.156940      0.165242  1.200540  "
      ]
     },
     "execution_count": 26,
     "metadata": {},
     "output_type": "execute_result"
    }
   ],
   "source": [
    "lala = averaged_results.groupby('Experiment')\n",
    "lala.aggregate('mean')"
   ]
  },
  {
   "cell_type": "code",
   "execution_count": null,
   "metadata": {
    "collapsed": true
   },
   "outputs": [],
   "source": []
  }
 ],
 "metadata": {
  "kernelspec": {
   "display_name": "Python [conda env:edm_env]",
   "language": "python",
   "name": "conda-env-edm_env-py"
  },
  "language_info": {
   "codemirror_mode": {
    "name": "ipython",
    "version": 2
   },
   "file_extension": ".py",
   "mimetype": "text/x-python",
   "name": "python",
   "nbconvert_exporter": "python",
   "pygments_lexer": "ipython2",
   "version": "2.7.13"
  }
 },
 "nbformat": 4,
 "nbformat_minor": 2
}
